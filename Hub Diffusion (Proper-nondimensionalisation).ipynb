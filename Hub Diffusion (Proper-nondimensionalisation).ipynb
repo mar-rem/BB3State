{
 "cells": [
  {
   "cell_type": "code",
   "execution_count": 1,
   "id": "4020b3fc",
   "metadata": {},
   "outputs": [
    {
     "name": "stdout",
     "output_type": "stream",
     "text": [
      "Populating the interactive namespace from numpy and matplotlib\n"
     ]
    }
   ],
   "source": [
    "%pylab inline\n",
    "from scipy.integrate import solve_ivp\n",
    "from IPython import display\n",
    "import time\n",
    "import scipy.integrate as integrate"
   ]
  },
  {
   "cell_type": "markdown",
   "id": "f3d40685",
   "metadata": {},
   "source": [
    "### Initializations"
   ]
  },
  {
   "cell_type": "code",
   "execution_count": 2,
   "id": "134dc84a",
   "metadata": {},
   "outputs": [],
   "source": [
    "# the 1D space\n",
    "length = 30.0\n",
    "Lmax = length\n",
    "Lmin = -length\n",
    "dx = 0.1\n",
    "Nx = int((Lmax-Lmin)/dx) +1\n",
    "xs = linspace(Lmin, Lmax, Nx)\n",
    "\n",
    "\n",
    "# the diffusion coefficients\n",
    "D_n = 11\n",
    "Ds = logspace(-2,3,D_n,base = 10)\n",
    "\n",
    "# the initial substrate concentrations\n",
    "atot_n = 11\n",
    "atots = logspace(0,5,D_n,base = 10)\n",
    "\n",
    "# will be used to determine atot (atot = N) when only D is specified  \n",
    "# and used to determine D (D = atot/N) when only atot is specified\n",
    "N = 100.0 \n",
    "\n",
    "nu = 1.0 # raw burn rate\n",
    "\n",
    "dt = 0.001\n",
    "tf = 400.0 #each run goes for (tf/dt) steps \n",
    "run_n = 50 # number of runs"
   ]
  },
  {
   "cell_type": "markdown",
   "id": "9806e4d3",
   "metadata": {},
   "source": [
    "### Unbiased initial substrate \n",
    "#### efficiency vs. D (a0 = 1/sigma)"
   ]
  },
  {
   "cell_type": "code",
   "execution_count": 4,
   "id": "93604b0b",
   "metadata": {},
   "outputs": [
    {
     "data": {
      "image/png": "[encoded data removed]",
      "text/plain": [
       "<Figure size 432x288 with 1 Axes>"
      ]
     },
     "metadata": {
      "needs_background": "light"
     },
     "output_type": "display_data"
    }
   ],
   "source": [
    "\n",
    "sol_0D = []\n",
    "for D in Ds: \n",
    "    sol_1 = []\n",
    "    tf = 400.0 #run for (tf/dt) steps \n",
    "    for run in range(run_n):\n",
    "        xp = 0.0\n",
    "        Ac = zeros(Nx) #initialize bound complex\n",
    "        \n",
    "        #intialize substrate\n",
    "        As = zeros(Nx) \n",
    "        As[xs > 2.0] = N # here atot = N\n",
    "        As[xs < -2.0] = N\n",
    "\n",
    "        # some values to save for each time step\n",
    "        xp_t = [] # position\n",
    "        v_t = [] # times\n",
    "        burn_t = [] # burn rate\n",
    "        \n",
    "        noisescale = sqrt(2*dt*D) # the scale of diffusion\n",
    "        t_max = int(tf/dt)\n",
    "        for t in range(t_max): \n",
    "            \n",
    "            total_f = D * trapz(-(xp -xs) * Ac, x=xs)\n",
    "            binding = exp(-0.5 * (xp - xs) ** 2) * As\n",
    "            burnt = nu * Ac\n",
    "            Ac += (binding - burnt) *dt\n",
    "            As += (- binding) * dt\n",
    "            noise = noisescale* random.normal(0.0,1.0)\n",
    "            \n",
    "            xp += total_f * dt + noise # update position\n",
    "\n",
    "            if t % 10.0 == 0.0: # save values\n",
    "                xp_t.append(xp)\n",
    "                v_t.append(total_f+noise/dt)\n",
    "                burn_t.append(trapz(Ac*nu,x=xs))\n",
    "                \n",
    "            if t % 1000.0 == 0.0 and run ==0: # see what's going on\n",
    "                display.clear_output(wait=True)\n",
    "                cla()\n",
    "                plot(xs,Ac)\n",
    "                plot(xs,As)\n",
    "                axvline(xp)\n",
    "                text(-length,N,\"D: \"+str(round(D,3)))\n",
    "                display.display(gcf())\n",
    "    \n",
    "            if abs(xp) > length -5.0: # stop before it hits an edge\n",
    "                break\n",
    "                \n",
    "        # see the velocity and position for the run        \n",
    "        display.clear_output(wait=True)\n",
    "        cla()\n",
    "        plot(linspace(0,int((t+1)*dt),int(t/10+1)),v_t)\n",
    "        plot(linspace(0,int((t+1)*dt),int(t/10+1)),xp_t)\n",
    "        text(0.0,0.0,\"D: \"+str(round(D,3))+\"  run: \" +str(run))\n",
    "        display.display(gcf())\n",
    "        \n",
    "        # save the mean velocity and burn rate for the last 90% of the run\n",
    "        sol_1.append([abs(mean(v_t[-int(t*0.9):])),mean(burn_t[-int(t*0.9):])])\n",
    "    # save these for each diffusion coefficient\n",
    "    sol_0D.append(sol_1)\n",
    "display.clear_output(wait=True)"
   ]
  },
  {
   "cell_type": "markdown",
   "id": "3574fdb0",
   "metadata": {},
   "source": [
    "### Unbiased initial substrate \n",
    "#### efficiency vs. D (a0 = gamma r siglam / KB T)"
   ]
  },
  {
   "cell_type": "code",
   "execution_count": 5,
   "id": "20067d89",
   "metadata": {},
   "outputs": [
    {
     "data": {
      "image/png": "[encoded data removed]",
      "text/plain": [
       "<Figure size 432x288 with 1 Axes>"
      ]
     },
     "metadata": {
      "needs_background": "light"
     },
     "output_type": "display_data"
    }
   ],
   "source": [
    "\n",
    "sol_0atot = [] \n",
    "for atot in atots: \n",
    "    sol_1 = []\n",
    "    tf = 400.0 #run for (tf/dt) steps \n",
    "    for run in range(run_n):\n",
    "        xp = 0.0\n",
    "        Ac = zeros(Nx) #initialize bound complex\n",
    "        \n",
    "        #initialize substrate\n",
    "        As = zeros(Nx) \n",
    "        As[xs > 2.0] = atot\n",
    "        As[xs < -2.0] = atot\n",
    "\n",
    "        \n",
    "        # some values to save for each time step\n",
    "        xp_t = [] # position\n",
    "        v_t = [] # times\n",
    "        burn_t = [] # burn rate\n",
    "        \n",
    "        noisescale = sqrt(2*dt*atot/N) # the scale of diffusion\n",
    "        t_max = int(tf/dt)\n",
    "        for t in range(t_max): \n",
    "            \n",
    "            total_f = trapz(-(xp -xs) * Ac, x=xs)\n",
    "            binding = exp(-0.5 * (xp - xs) ** 2) * As\n",
    "            burnt = nu * Ac\n",
    "            Ac += (binding - burnt) *dt\n",
    "            As += (- binding) * dt\n",
    "            noise = noisescale* random.normal(0.0,1.0)\n",
    "            \n",
    "            xp += total_f * dt + noise # update position\n",
    "\n",
    "            if t % 10.0 == 0.0: # save values\n",
    "                xp_t.append(xp)\n",
    "                v_t.append(total_f+noise/dt)\n",
    "                burn_t.append(trapz(Ac*nu,x=xs))\n",
    "                \n",
    "            if t % 1000.0 == 0.0 and run ==0: # see what's going on\n",
    "                display.clear_output(wait=True)\n",
    "                cla()\n",
    "                plot(xs,Ac)\n",
    "                plot(xs,As)\n",
    "                axvline(xp)\n",
    "                text(-length,atot,\"$a_{tot}$: \"+str(round(atot,3)))\n",
    "                display.display(gcf())\n",
    "\n",
    "            if abs(xp) > length -5.0: # stop before it hits an edge\n",
    "                break\n",
    "        \n",
    "        # see the velocity and position for the run   \n",
    "        display.clear_output(wait=True)\n",
    "        cla()\n",
    "        plot(linspace(0,int((t+1)*dt),int(t/10+1)),v_t)\n",
    "        plot(linspace(0,int((t+1)*dt),int(t/10+1)),xp_t)\n",
    "        text(0.0,0.0,\"$a_{tot}$: \"+str(round(atot,3))+\"  run: \" +str(run))\n",
    "        display.display(gcf())\n",
    "        \n",
    "        # save the mean velocity and burn rate for the last 90% of the run\n",
    "        sol_1.append([abs(mean(v_t[-int(t*0.9):])),mean(burn_t[-int(t*0.9):])])\n",
    "    # save these for each diffusion coefficient\n",
    "    sol_0atot.append(sol_1)\n",
    "display.clear_output(wait=True)"
   ]
  },
  {
   "cell_type": "markdown",
   "id": "d76a4587",
   "metadata": {},
   "source": [
    "### Biased initial substrate\n",
    "#### efficiency vs. D (a0 = 1/sigma)"
   ]
  },
  {
   "cell_type": "code",
   "execution_count": 6,
   "id": "d9063385",
   "metadata": {},
   "outputs": [
    {
     "data": {
      "image/png": "[encoded data removed]",
      "text/plain": [
       "<Figure size 432x288 with 1 Axes>"
      ]
     },
     "metadata": {
      "needs_background": "light"
     },
     "output_type": "display_data"
    }
   ],
   "source": [
    "\n",
    "sol_0Db = []\n",
    "for D in Ds: \n",
    "    sol_1 = []\n",
    "    tf = 400.0 #run for (tf/dt) steps \n",
    "    for run in range(run_n):\n",
    "        xp = 0.0\n",
    "        Ac = zeros(Nx) #initialize bound complex\n",
    "        \n",
    "        #intialize substrate\n",
    "        As = zeros(Nx) \n",
    "        As[xs > 0.0] = linspace(0.1,length,int(Lmax/dx)) * N/2.0 # create initial gradient with slope (a0/2.0)\n",
    "        As[xs > 2.0] = N # biased to the right\n",
    "\n",
    "        # some values to save for each time step\n",
    "        xp_t = [] # position\n",
    "        v_t = [] # times\n",
    "        burn_t = [] # burn rate\n",
    "        \n",
    "        noisescale = sqrt(2*dt*D) # the scale of diffusion\n",
    "        t_max = int(tf/dt)\n",
    "        for t in range(t_max): \n",
    "            \n",
    "            total_f = D * trapz(-(xp -xs) * Ac, x=xs)\n",
    "            binding = exp(-0.5 * (xp - xs) ** 2) * As\n",
    "            burnt = nu * Ac\n",
    "            Ac += (binding - burnt) *dt\n",
    "            As += (- binding) * dt\n",
    "            noise = noisescale* random.normal(0.0,1.0)\n",
    "            \n",
    "            xp += total_f * dt + noise # update position\n",
    "\n",
    "            if t % 10.0 == 0.0: # save values\n",
    "                xp_t.append(xp)\n",
    "                v_t.append(total_f+noise/dt)\n",
    "                burn_t.append(trapz(Ac*nu,x=xs))\n",
    "                \n",
    "            if t % 1000.0 == 0.0 and run ==0: # see what's going on\n",
    "                display.clear_output(wait=True)\n",
    "                cla()\n",
    "                plot(xs,Ac)\n",
    "                plot(xs,As)\n",
    "                axvline(xp)\n",
    "                text(-length,N,\"D: \"+str(round(D,3)))\n",
    "                display.display(gcf())\n",
    "    \n",
    "            if abs(xp) > length -5.0: # stop before it hits an edge\n",
    "                break\n",
    "                \n",
    "        # see the velocity and position for the run        \n",
    "        display.clear_output(wait=True)\n",
    "        cla()\n",
    "        plot(linspace(0,int((t+1)*dt),int(t/10+1)),v_t)\n",
    "        plot(linspace(0,int((t+1)*dt),int(t/10+1)),xp_t)\n",
    "        text(0.0,0.0,\"D: \"+str(round(D,3))+\"  run: \" +str(run))\n",
    "        display.display(gcf())\n",
    "        \n",
    "        # save the mean velocity and burn rate for the last 90% of the run\n",
    "        sol_1.append([abs(mean(v_t[-int(t*0.9):])),mean(burn_t[-int(t*0.9):])])\n",
    "    # save these for each diffusion coefficient\n",
    "    sol_0Db.append(sol_1)\n",
    "display.clear_output(wait=True)"
   ]
  },
  {
   "cell_type": "markdown",
   "id": "86e724b8",
   "metadata": {},
   "source": [
    "### Biased initial substrate \n",
    "#### efficiency vs. D (a0 = gamma r siglam / KB T)"
   ]
  },
  {
   "cell_type": "code",
   "execution_count": 7,
   "id": "7d17232a",
   "metadata": {},
   "outputs": [
    {
     "data": {
      "image/png": "[encoded data removed]",
      "text/plain": [
       "<Figure size 432x288 with 1 Axes>"
      ]
     },
     "metadata": {
      "needs_background": "light"
     },
     "output_type": "display_data"
    }
   ],
   "source": [
    "\n",
    "sol_0atotb = [] \n",
    "for atot in atots: \n",
    "    sol_1 = []\n",
    "    tf = 400.0 #run for (tf/dt) steps \n",
    "    for run in range(run_n):\n",
    "        xp = 0.0\n",
    "        Ac = zeros(Nx) #initialize bound complex\n",
    "        \n",
    "        #initialize substrate\n",
    "        As = zeros(Nx) \n",
    "        As[xs > 0.0] = linspace(0.1,length,int(Lmax/dx)) * atot/2.0 # create initial gradient with slope (a0/2.0)\n",
    "        As[xs > 2.0] = atot # biased to the right\n",
    "\n",
    "        \n",
    "        # some values to save for each time step\n",
    "        xp_t = [] # position\n",
    "        v_t = [] # times\n",
    "        burn_t = [] # burn rate\n",
    "        \n",
    "        noisescale = sqrt(2*dt*atot/N) # the scale of diffusion\n",
    "        t_max = int(tf/dt)\n",
    "        for t in range(t_max): \n",
    "            \n",
    "            total_f = trapz(-(xp -xs) * Ac, x=xs)\n",
    "            binding = exp(-0.5 * (xp - xs) ** 2) * As\n",
    "            burnt = nu * Ac\n",
    "            Ac += (binding - burnt) *dt\n",
    "            As += (- binding) * dt\n",
    "            noise = noisescale* random.normal(0.0,1.0)\n",
    "            \n",
    "            xp += total_f * dt + noise # update position\n",
    "\n",
    "            if t % 10.0 == 0.0: # save values\n",
    "                xp_t.append(xp)\n",
    "                v_t.append(total_f+noise/dt)\n",
    "                burn_t.append(trapz(Ac*nu,x=xs))\n",
    "                \n",
    "            if t % 1000.0 == 0.0 and run ==0: # see what's going on\n",
    "                display.clear_output(wait=True)\n",
    "                cla()\n",
    "                plot(xs,Ac)\n",
    "                plot(xs,As)\n",
    "                axvline(xp)\n",
    "                text(-length,atot,\"$a_{tot}$: \"+str(round(atot,3)))\n",
    "                display.display(gcf())\n",
    "\n",
    "            if abs(xp) > length -5.0: # stop before it hits an edge\n",
    "                break\n",
    "        \n",
    "        # see the velocity and position for the run   \n",
    "        display.clear_output(wait=True)\n",
    "        cla()\n",
    "        plot(linspace(0,int((t+1)*dt),int(t/10+1)),v_t)\n",
    "        plot(linspace(0,int((t+1)*dt),int(t/10+1)),xp_t)\n",
    "        text(0.0,0.0,\"$a_{tot}$: \"+str(round(atot,3))+\"  run: \" +str(run))\n",
    "        display.display(gcf())\n",
    "        \n",
    "        # save the mean velocity and burn rate for the last 90% of the run\n",
    "        sol_1.append([abs(mean(v_t[-int(t*0.9):])),mean(burn_t[-int(t*0.9):])])\n",
    "    # save these for each diffusion coefficient\n",
    "    sol_0atotb.append(sol_1)\n",
    "display.clear_output(wait=True)"
   ]
  },
  {
   "cell_type": "markdown",
   "id": "0f032cd3",
   "metadata": {},
   "source": [
    "### plotting efficiency vs. D"
   ]
  },
  {
   "cell_type": "code",
   "execution_count": 9,
   "id": "094071ec",
   "metadata": {},
   "outputs": [
    {
     "data": {
      "text/plain": [
       "Text(0, 0.5, 'Relative Efficiency')"
      ]
     },
     "execution_count": 9,
     "metadata": {},
     "output_type": "execute_result"
    },
    {
     "data": {
      "image/png": "[encoded data removed]",
      "text/plain": [
       "<Figure size 432x288 with 1 Axes>"
      ]
     },
     "metadata": {
      "needs_background": "light"
     },
     "output_type": "display_data"
    }
   ],
   "source": [
    "#plot all at once\n",
    "sol_0D = array(sol_0D)\n",
    "sol_0atot = array(sol_0atot)\n",
    "sol_0Db = array(sol_0Db)\n",
    "sol_0atotb = array(sol_0atotb)\n",
    "effsD = []\n",
    "for i in range(len(sol_0D)):\n",
    "    vs = mean(sol_0D[i][:,0],axis=0)\n",
    "    burns = mean(sol_0D[i][:,1],axis=0)\n",
    "    effsD.append(N/atots[i] *vs**2 / burns)\n",
    "effsatot = []\n",
    "for i in range(len(sol_0atot)):\n",
    "    vs = mean(sol_0atot[i][:,0],axis=0)\n",
    "    burns = mean(sol_0atot[i][:,1],axis=0)\n",
    "    effsatot.append(N/atots[i] *vs**2 / burns)\n",
    "effsDb = []\n",
    "for i in range(len(sol_0Db)):\n",
    "    vs = mean(sol_0Db[i][:,0],axis=0)\n",
    "    burns = mean(sol_0Db[i][:,1],axis=0)\n",
    "    effsDb.append(N/atots[i] *vs**2 / burns)\n",
    "effsatotb = []\n",
    "for i in range(len(sol_0atotb)):\n",
    "    vs = mean(sol_0atotb[i][:,0],axis=0)\n",
    "    burns = mean(sol_0atotb[i][:,1],axis=0)\n",
    "    effsatotb.append(N/atots[i] *vs**2 / burns)\n",
    "\n",
    "plot(Ds,effsD,\".-\", label= \"Unbiased, $a_0 = 1/\\sigma$\")\n",
    "plot(atots/N,effsatot,\".-\",label= \"Unbiased, $a_0 = \\gamma r \\sigma/ k_B T$\")\n",
    "plot(Ds,effsDb,\".-\", label= \"Biased, $a_0 = 1/\\sigma$\")\n",
    "plot(atots/N,effsatotb,\".-\", label= \"Biased, $a_0 = \\gamma r \\sigma/ k_B T$\")\n",
    "legend()\n",
    "xscale(\"log\")\n",
    "yscale('log')\n",
    "xlabel(\"D'\")\n",
    "ylabel(\"Relative Efficiency\")\n",
    "    "
   ]
  },
  {
   "cell_type": "markdown",
   "id": "b8e67b15",
   "metadata": {},
   "source": [
    "### ensuring dt stable at dt = 1e-3\n",
    "#### (a0 = 1/ sigma)"
   ]
  },
  {
   "cell_type": "code",
   "execution_count": 13,
   "id": "ede64665",
   "metadata": {},
   "outputs": [],
   "source": [
    "\n",
    "dt_n = 7\n",
    "dts = logspace(-4,-1,dt_n,base = 10)\n",
    "D = 1.0\n",
    "\n",
    "sol_0 = []\n",
    "for dt in dts: \n",
    "    sol_1 = []\n",
    "    tf = 400.0\n",
    "    for run in range(run_n):\n",
    "        xp = 0.0\n",
    "        Ac = zeros(Nx)\n",
    "        \n",
    "        As = zeros(Nx) \n",
    "        As[xs > 2.0] = N\n",
    "        As[xs < -2.0] = N\n",
    "\n",
    "        xp_t = []\n",
    "        v_t = []\n",
    "        burn_t = []\n",
    "        \n",
    "        noisescale = sqrt(2*dt*D)\n",
    "        t_max = int(tf/dt)\n",
    "        for t in range(t_max): \n",
    "            \n",
    "            total_f = D * trapz(-(xp -xs) * Ac, x=xs)\n",
    "            binding = exp(-0.5 * (xp - xs) ** 2) * As\n",
    "            burnt = nu * Ac\n",
    "            Ac += (binding - burnt) *dt\n",
    "            As += (- binding) * dt\n",
    "            noise = noisescale* random.normal(0.0,1.0)\n",
    "            xp += total_f * dt + noise \n",
    "\n",
    "            if t % 10.0 == 0.0:\n",
    "                xp_t.append(xp)\n",
    "                v_t.append(total_f+noise/dt)\n",
    "                burn_t.append(trapz(Ac*nu,x=xs))\n",
    "                                \n",
    "            if abs(xp) > length -5.0:\n",
    "                break\n",
    "        \n",
    "        sol_1.append([abs(mean(v_t[-int(t*0.9):])),mean(burn_t[-int(t*0.9):])])\n",
    "    sol_0.append(sol_1)"
   ]
  },
  {
   "cell_type": "markdown",
   "id": "aa0e78ac",
   "metadata": {},
   "source": [
    "#### plot efficiency vs. dt (a0 = 1\\sigma)"
   ]
  },
  {
   "cell_type": "code",
   "execution_count": 14,
   "id": "a89a1991",
   "metadata": {},
   "outputs": [
    {
     "name": "stdout",
     "output_type": "stream",
     "text": [
      "(7, 50, 2)\n"
     ]
    },
    {
     "data": {
      "text/plain": [
       "Text(0, 0.5, 'Relative Efficiency')"
      ]
     },
     "execution_count": 14,
     "metadata": {},
     "output_type": "execute_result"
    },
    {
     "data": {
      "image/png": "[encoded data removed]",
      "text/plain": [
       "<Figure size 432x288 with 1 Axes>"
      ]
     },
     "metadata": {
      "needs_background": "light"
     },
     "output_type": "display_data"
    }
   ],
   "source": [
    "sol_0 = array(sol_0)\n",
    "print(sol_0.shape)\n",
    "effs = []\n",
    "for i in range(len(sol_0)):\n",
    "    vs = mean(sol_0[i][:,0],axis=0)\n",
    "    burns = mean(sol_0[i][:,1],axis=0)\n",
    "    effs.append(1/D *vs**2 / burns)\n",
    "plot(dts,effs,\".-\")\n",
    "#legend()\n",
    "xscale(\"log\")\n",
    "yscale('log')\n",
    "xlabel(\"dt\")\n",
    "ylabel(\"Relative Efficiency\")\n",
    "    "
   ]
  },
  {
   "cell_type": "markdown",
   "id": "be90ad7b",
   "metadata": {},
   "source": [
    "### ensuring dt stable at dt = 1e-3\n",
    "#### (a0 = gamma r siglam / KB T)"
   ]
  },
  {
   "cell_type": "code",
   "execution_count": 15,
   "id": "dbd92115",
   "metadata": {},
   "outputs": [
    {
     "data": {
      "image/png": "[encoded data removed]",
      "text/plain": [
       "<Figure size 432x288 with 1 Axes>"
      ]
     },
     "metadata": {},
     "output_type": "display_data"
    },
    {
     "data": {
      "image/png": "[encoded data removed]",
      "text/plain": [
       "<Figure size 432x288 with 1 Axes>"
      ]
     },
     "metadata": {
      "needs_background": "light"
     },
     "output_type": "display_data"
    }
   ],
   "source": [
    "\n",
    "dt_n = 7\n",
    "dts = logspace(-4,-1,dt_n,base = 10)\n",
    "atot = 100.0\n",
    "\n",
    "sol_0 = []\n",
    "for dt in dts: \n",
    "    sol_1 = []\n",
    "    tf = 400.0\n",
    "    for run in range(run_n):\n",
    "        xp = 0.0\n",
    "        Ac = zeros(Nx)\n",
    "        \n",
    "        As = zeros(Nx) \n",
    "        As[xs > 2.0] = atot\n",
    "        As[xs < -2.0] = atot\n",
    "\n",
    "        t_max = int(tf/dt)\n",
    "        xp_t = []\n",
    "        v_t = []\n",
    "        burn_t = []\n",
    "        noisescale = sqrt(2*dt*atot/N)\n",
    "        for t in range(t_max): \n",
    "            \n",
    "            total_f = trapz(-(xp -xs) * Ac, x=xs)\n",
    "            binding = exp(-0.5 * (xp - xs) ** 2) * As\n",
    "            burnt = nu * Ac\n",
    "            Ac += (binding - burnt) *dt\n",
    "            As += (- binding) * dt\n",
    "            noise = noisescale* random.normal(0.0,1.0)\n",
    "            xp += total_f * dt + noise \n",
    "\n",
    "            if t % 10.0 == 0.0:\n",
    "                xp_t.append(xp)\n",
    "                v_t.append(total_f+noise/dt)\n",
    "                burn_t.append(trapz(Ac*nu,x=xs))\n",
    "                \n",
    "            if t % 1000.0 == 0.0 and run ==0:\n",
    "                display.clear_output(wait=True)\n",
    "                cla()\n",
    "                plot(xs,Ac)\n",
    "                plot(xs,As)\n",
    "                axvline(xp)\n",
    "                text(-length,atot,\"$a_{tot}$: \"+str(round(atot,3)))\n",
    "                display.display(gcf())\n",
    "                \n",
    "            if abs(xp) > length -5.0:\n",
    "                break\n",
    "                \n",
    "        display.clear_output(wait=True)\n",
    "        cla()\n",
    "        plot(linspace(0,int((t+1)*dt),int(t/10+1)),v_t)\n",
    "        plot(linspace(0,int((t+1)*dt),int(t/10+1)),xp_t)\n",
    "        text(0.0,0.0,\"$a_{tot}$: \"+str(round(atot,3)))\n",
    "        display.display(gcf())\n",
    "        \n",
    "        sol_1.append([abs(mean(v_t[-int(t*0.9):])),mean(burn_t[-int(t*0.9):])])\n",
    "    sol_0.append(sol_1)"
   ]
  },
  {
   "cell_type": "markdown",
   "id": "6a694021",
   "metadata": {},
   "source": [
    "#### plot efficiency vs. dt (a0 = gamma r sigma\\KB T)"
   ]
  },
  {
   "cell_type": "code",
   "execution_count": 16,
   "id": "ef378c46",
   "metadata": {},
   "outputs": [
    {
     "name": "stdout",
     "output_type": "stream",
     "text": [
      "(7, 50, 2)\n"
     ]
    },
    {
     "data": {
      "text/plain": [
       "Text(0, 0.5, 'Relative Efficiency')"
      ]
     },
     "execution_count": 16,
     "metadata": {},
     "output_type": "execute_result"
    },
    {
     "data": {
      "image/png": "[encoded data removed]",
      "text/plain": [
       "<Figure size 432x288 with 1 Axes>"
      ]
     },
     "metadata": {
      "needs_background": "light"
     },
     "output_type": "display_data"
    }
   ],
   "source": [
    "sol_0 = array(sol_0)\n",
    "print(sol_0.shape)\n",
    "effs = []\n",
    "for i in range(len(sol_0)):\n",
    "    vs = mean(sol_0[i][:,0],axis=0)\n",
    "    burns = mean(sol_0[i][:,1],axis=0)\n",
    "    effs.append(N/atot *vs**2 / burns)\n",
    "plot(dts,effs,\".-\")\n",
    "#legend()\n",
    "xscale(\"log\")\n",
    "yscale('log')\n",
    "xlabel(\"dt\")\n",
    "ylabel(\"Relative Efficiency\")\n",
    "    "
   ]
  },
  {
   "cell_type": "code",
   "execution_count": null,
   "id": "97709bc0",
   "metadata": {},
   "outputs": [],
   "source": []
  }
 ],
 "metadata": {
  "kernelspec": {
   "display_name": "Python 3",
   "language": "python",
   "name": "python3"
  },
  "language_info": {
   "codemirror_mode": {
    "name": "ipython",
    "version": 3
   },
   "file_extension": ".py",
   "mimetype": "text/x-python",
   "name": "python",
   "nbconvert_exporter": "python",
   "pygments_lexer": "ipython3",
   "version": "3.8.8"
  }
 },
 "nbformat": 4,
 "nbformat_minor": 5
}
