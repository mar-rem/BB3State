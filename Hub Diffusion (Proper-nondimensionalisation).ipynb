{
 "cells": [
  {
   "cell_type": "code",
   "execution_count": 1,
   "id": "4020b3fc",
   "metadata": {},
   "outputs": [
    {
     "name": "stdout",
     "output_type": "stream",
     "text": [
      "Populating the interactive namespace from numpy and matplotlib\n"
     ]
    }
   ],
   "source": [
    "%pylab inline\n",
    "from scipy.integrate import solve_ivp\n",
    "from IPython import display\n",
    "import time\n",
    "import scipy.integrate as integrate"
   ]
  },
  {
   "cell_type": "markdown",
   "id": "9f09d53b",
   "metadata": {},
   "source": [
    "### Initializations"
   ]
  },
  {
   "cell_type": "code",
   "execution_count": 7,
   "id": "34317ebc",
   "metadata": {},
   "outputs": [
    {
     "name": "stdout",
     "output_type": "stream",
     "text": [
      "[3.16227766e-03 1.00000000e-02 1.00000000e-01 1.00000000e+00\n",
      " 1.00000000e+01] [3.16227766e-01 1.00000000e+00 1.00000000e+01 1.00000000e+02\n",
      " 1.00000000e+03]\n"
     ]
    }
   ],
   "source": [
    "# the 1D space\n",
    "length = 30.0\n",
    "Lmax = length\n",
    "Lmin = -length\n",
    "dx = 0.1\n",
    "Nx = int((Lmax-Lmin)/dx) +1\n",
    "xs = linspace(Lmin, Lmax, Nx)\n",
    "\n",
    "# will be used to determine atot (atot = N) when only D is specified  \n",
    "# and used to determine D (D = atot/N) when only atot is specified\n",
    "N = 100.0 \n",
    "\n",
    "# the diffusion coefficients\n",
    "Ds = array([10**(-2.5),1e-2,1e-1,1.0,1e1])\n",
    "D_n = len(Ds)\n",
    "\n",
    "# the initial substrate concentrations\n",
    "atots = Ds*N\n",
    "\n",
    "nu = 1.0 # raw burn rate\n",
    "\n",
    "dt = 0.001\n",
    "tf = 200.0 #each run goes for (tf/dt) steps \n",
    "run_n = 50 # number of runs\n",
    "\n",
    "print(Ds,atots)"
   ]
  },
  {
   "cell_type": "markdown",
   "id": "f5a186f4",
   "metadata": {},
   "source": [
    "### Unbiased initial substrate \n",
    "#### efficiency vs. D (a0 = 1/sigma)"
   ]
  },
  {
   "cell_type": "code",
   "execution_count": 7,
   "id": "93604b0b",
   "metadata": {},
   "outputs": [
    {
     "data": {
      "image/png": "[encoded data removed]",
      "text/plain": [
       "<Figure size 432x288 with 1 Axes>"
      ]
     },
     "metadata": {
      "needs_background": "light"
     },
     "output_type": "display_data"
    }
   ],
   "source": [
    "\n",
    "sol_0D = []\n",
    "for D in Ds: \n",
    "    sol_1 = []\n",
    "    tf = 400.0 #run for (tf/dt) steps \n",
    "    for run in range(run_n):\n",
    "        xp = 0.0\n",
    "        Ac = zeros(Nx) #initialize bound complex\n",
    "        \n",
    "        #intialize substrate\n",
    "        As = zeros(Nx) \n",
    "        As[xs > 2.0] = N # here atot = N\n",
    "        As[xs < -2.0] = N\n",
    "\n",
    "        # some values to save for each time step\n",
    "        xp_t = [] # position\n",
    "        v_t = [] # times\n",
    "        burn_t = [] # burn rate\n",
    "        \n",
    "        noisescale = sqrt(2*dt*D) # the scale of diffusion\n",
    "        t_max = int(tf/dt)\n",
    "        for t in range(t_max): \n",
    "            \n",
    "            total_f = D * trapz(-(xp -xs) * Ac, x=xs)\n",
    "            binding = exp(-0.5 * (xp - xs) ** 2) * As\n",
    "            burnt = nu * Ac\n",
    "            Ac += (binding - burnt) *dt\n",
    "            As += (- binding) * dt\n",
    "            noise = noisescale* random.normal(0.0,1.0)\n",
    "            \n",
    "            xp += total_f * dt + noise # update position\n",
    "\n",
    "            if t % 10.0 == 0.0: # save values\n",
    "                xp_t.append(xp)\n",
    "                v_t.append(total_f+noise/dt)\n",
    "                burn_t.append(trapz(Ac*nu,x=xs))\n",
    "                \n",
    "            if t % 1000.0 == 0.0 and run ==0: # see what's going on\n",
    "                display.clear_output(wait=True)\n",
    "                cla()\n",
    "                plot(xs,Ac)\n",
    "                plot(xs,As)\n",
    "                axvline(xp)\n",
    "                text(-length,N,\"D: \"+str(round(D,3)))\n",
    "                display.display(gcf())\n",
    "    \n",
    "            if abs(xp) > length -5.0: # stop before it hits an edge\n",
    "                break\n",
    "                \n",
    "        # see the velocity and position for the run        \n",
    "        display.clear_output(wait=True)\n",
    "        cla()\n",
    "        plot(linspace(0,int((t+1)*dt),int(t/10+1)),v_t)\n",
    "        plot(linspace(0,int((t+1)*dt),int(t/10+1)),xp_t)\n",
    "        text(0.0,0.0,\"D: \"+str(round(D,3))+\"  run: \" +str(run))\n",
    "        display.display(gcf())\n",
    "        \n",
    "        # save the mean velocity and burn rate for the last 90% of the run\n",
    "        sol_1.append([abs(mean(v_t[-int(t*0.9):])),mean(burn_t[-int(t*0.9):])])\n",
    "    # save these for each diffusion coefficient\n",
    "    sol_0D.append(sol_1)\n",
    "display.clear_output(wait=True)"
   ]
  },
  {
   "cell_type": "markdown",
   "id": "6e4cf845",
   "metadata": {},
   "source": [
    "### Unbiased initial substrate \n",
    "#### efficiency vs. D (a0 = gamma r siglam / KB T)"
   ]
  },
  {
   "cell_type": "code",
   "execution_count": null,
   "id": "20067d89",
   "metadata": {},
   "outputs": [],
   "source": [
    "\n",
    "sol_0atot = [] \n",
    "for atot in atots: \n",
    "    sol_1 = []\n",
    "    tf = 400.0 #run for (tf/dt) steps \n",
    "    for run in range(run_n):\n",
    "        xp = 0.0\n",
    "        Ac = zeros(Nx) #initialize bound complex\n",
    "        \n",
    "        #initialize substrate\n",
    "        As = zeros(Nx) \n",
    "        As[xs > 2.0] = atot\n",
    "        As[xs < -2.0] = atot\n",
    "\n",
    "        \n",
    "        # some values to save for each time step\n",
    "        xp_t = [] # position\n",
    "        v_t = [] # times\n",
    "        burn_t = [] # burn rate\n",
    "        \n",
    "        noisescale = sqrt(2*dt*atot/N) # the scale of diffusion\n",
    "        t_max = int(tf/dt)\n",
    "        for t in range(t_max): \n",
    "            \n",
    "            total_f = trapz(-(xp -xs) * Ac, x=xs)\n",
    "            binding = exp(-0.5 * (xp - xs) ** 2) * As\n",
    "            burnt = nu * Ac\n",
    "            Ac += (binding - burnt) *dt\n",
    "            As += (- binding) * dt\n",
    "            noise = noisescale* random.normal(0.0,1.0)\n",
    "            \n",
    "            xp += total_f * dt + noise # update position\n",
    "\n",
    "            if t % 10.0 == 0.0: # save values\n",
    "                xp_t.append(xp)\n",
    "                v_t.append(total_f+noise/dt)\n",
    "                burn_t.append(trapz(Ac*nu,x=xs))\n",
    "                \n",
    "            if t % 1000.0 == 0.0 and run ==0: # see what's going on\n",
    "                display.clear_output(wait=True)\n",
    "                cla()\n",
    "                plot(xs,Ac)\n",
    "                plot(xs,As)\n",
    "                axvline(xp)\n",
    "                text(-length,atot,\"$a_{tot}$: \"+str(round(atot,3)))\n",
    "                display.display(gcf())\n",
    "\n",
    "            if abs(xp) > length -5.0: # stop before it hits an edge\n",
    "                break\n",
    "        \n",
    "        # see the velocity and position for the run   \n",
    "        display.clear_output(wait=True)\n",
    "        cla()\n",
    "        plot(linspace(0,int((t+1)*dt),int(t/10+1)),v_t)\n",
    "        plot(linspace(0,int((t+1)*dt),int(t/10+1)),xp_t)\n",
    "        text(0.0,0.0,\"$a_{tot}$: \"+str(round(atot,3))+\"  run: \" +str(run))\n",
    "        display.display(gcf())\n",
    "        \n",
    "        # save the mean velocity and burn rate for the last 90% of the run\n",
    "        sol_1.append([abs(mean(v_t[-int(t*0.9):])),mean(burn_t[-int(t*0.9):])])\n",
    "    # save these for each diffusion coefficient\n",
    "    sol_0atot.append(sol_1)\n",
    "display.clear_output(wait=True)"
   ]
  },
  {
   "cell_type": "markdown",
   "id": "82b5ec55",
   "metadata": {},
   "source": [
    "### Biased initial substrate\n",
    "#### efficiency vs. D (a0 = 1/sigma)"
   ]
  },
  {
   "cell_type": "code",
   "execution_count": 8,
   "id": "d9063385",
   "metadata": {},
   "outputs": [
    {
     "data": {
      "image/png": "[encoded data removed]",
      "text/plain": [
       "<Figure size 432x288 with 1 Axes>"
      ]
     },
     "metadata": {
      "needs_background": "light"
     },
     "output_type": "display_data"
    }
   ],
   "source": [
    "\n",
    "sol_0Db = []\n",
    "for D in Ds: \n",
    "    sol_1 = []\n",
    "    tf = 400.0 #run for (tf/dt) steps \n",
    "    for run in range(run_n):\n",
    "        xp = 0.0\n",
    "        Ac = zeros(Nx) #initialize bound complex\n",
    "        \n",
    "        #intialize substrate\n",
    "        As = zeros(Nx) \n",
    "        As[xs > 0.0] = linspace(0.1,length,int(Lmax/dx)) * N/2.0 # create initial gradient with slope (a0/2.0)\n",
    "        As[xs > 2.0] = N # biased to the right\n",
    "\n",
    "        # some values to save for each time step\n",
    "        xp_t = [] # position\n",
    "        v_t = [] # times\n",
    "        burn_t = [] # burn rate\n",
    "        \n",
    "        noisescale = sqrt(2*dt*D) # the scale of diffusion\n",
    "        t_max = int(tf/dt)\n",
    "        for t in range(t_max): \n",
    "            \n",
    "            total_f = D * trapz(-(xp -xs) * Ac, x=xs)\n",
    "            binding = exp(-0.5 * (xp - xs) ** 2) * As\n",
    "            burnt = nu * Ac\n",
    "            Ac += (binding - burnt) *dt\n",
    "            As += (- binding) * dt\n",
    "            noise = noisescale* random.normal(0.0,1.0)\n",
    "            \n",
    "            xp += total_f * dt + noise # update position\n",
    "\n",
    "            if t % 10.0 == 0.0: # save values\n",
    "                xp_t.append(xp)\n",
    "                v_t.append(total_f+noise/dt)\n",
    "                burn_t.append(trapz(Ac*nu,x=xs))\n",
    "                \n",
    "            if t % 1000.0 == 0.0 and run ==0: # see what's going on\n",
    "                display.clear_output(wait=True)\n",
    "                cla()\n",
    "                plot(xs,Ac)\n",
    "                plot(xs,As)\n",
    "                axvline(xp)\n",
    "                text(-length,N,\"D: \"+str(round(D,3)))\n",
    "                display.display(gcf()) \n",
    "    \n",
    "            if abs(xp) > length -5.0: # stop before it hits an edge\n",
    "                break\n",
    "                \n",
    "        # see the velocity and position for the run        \n",
    "        display.clear_output(wait=True)\n",
    "        cla()\n",
    "        plot(linspace(0,int((t+1)*dt),int(t/10+1)),v_t)\n",
    "        plot(linspace(0,int((t+1)*dt),int(t/10+1)),xp_t)\n",
    "        text(0.0,0.0,\"D: \"+str(round(D,3))+\"  run: \" +str(run))\n",
    "        display.display(gcf())\n",
    "        \n",
    "        # save the mean velocity and burn rate for the last 90% of the run\n",
    "        sol_1.append([abs(mean(v_t[-int(t*0.9):])),mean(burn_t[-int(t*0.9):])])\n",
    "    # save these for each diffusion coefficient\n",
    "    sol_0Db.append(sol_1)\n",
    "display.clear_output(wait=True)"
   ]
  },
  {
   "cell_type": "markdown",
   "id": "4593ac46",
   "metadata": {},
   "source": [
    "### Biased initial substrate \n",
    "#### efficiency vs. D (a0 = gamma r siglam / KB T)"
   ]
  },
  {
   "cell_type": "code",
   "execution_count": null,
   "id": "7d17232a",
   "metadata": {},
   "outputs": [],
   "source": [
    "\n",
    "sol_0atotb = [] \n",
    "for atot in atots: \n",
    "    sol_1 = []\n",
    "    tf = 400.0 #run for (tf/dt) steps \n",
    "    for run in range(run_n):\n",
    "        xp = 0.0\n",
    "        Ac = zeros(Nx) #initialize bound complex\n",
    "        \n",
    "        #initialize substrate\n",
    "        As = zeros(Nx) \n",
    "        As[xs > 0.0] = linspace(0.1,length,int(Lmax/dx)) * atot/2.0 # create initial gradient with slope (a0/2.0)\n",
    "        As[xs > 2.0] = atot # biased to the right\n",
    "\n",
    "        \n",
    "        # some values to save for each time step\n",
    "        xp_t = [] # position\n",
    "        v_t = [] # times\n",
    "        burn_t = [] # burn rate\n",
    "        \n",
    "        noisescale = sqrt(2*dt*atot/N) # the scale of diffusion\n",
    "        t_max = int(tf/dt)\n",
    "        for t in range(t_max): \n",
    "            \n",
    "            total_f = trapz(-(xp -xs) * Ac, x=xs)\n",
    "            binding = exp(-0.5 * (xp - xs) ** 2) * As\n",
    "            burnt = nu * Ac\n",
    "            Ac += (binding - burnt) *dt\n",
    "            As += (- binding) * dt\n",
    "            noise = noisescale* random.normal(0.0,1.0)\n",
    "            \n",
    "            xp += total_f * dt + noise # update position\n",
    "\n",
    "            if t % 10.0 == 0.0: # save values\n",
    "                xp_t.append(xp)\n",
    "                v_t.append(total_f+noise/dt)\n",
    "                burn_t.append(trapz(Ac*nu,x=xs))\n",
    "                \n",
    "            if t % 1000.0 == 0.0 and run ==0: # see what's going on\n",
    "                display.clear_output(wait=True)\n",
    "                cla()\n",
    "                plot(xs,Ac)\n",
    "                plot(xs,As)\n",
    "                axvline(xp)\n",
    "                text(-length,atot,\"$a_{tot}$: \"+str(round(atot,3)))\n",
    "                display.display(gcf())\n",
    "\n",
    "            if abs(xp) > length -5.0: # stop before it hits an edge\n",
    "                break\n",
    "        \n",
    "        # see the velocity and position for the run   \n",
    "        display.clear_output(wait=True)\n",
    "        cla()\n",
    "        plot(linspace(0,int((t+1)*dt),int(t/10+1)),v_t)\n",
    "        plot(linspace(0,int((t+1)*dt),int(t/10+1)),xp_t)\n",
    "        text(0.0,0.0,\"$a_{tot}$: \"+str(round(atot,3))+\"  run: \" +str(run))\n",
    "        display.display(gcf())\n",
    "        \n",
    "        # save the mean velocity and burn rate for the last 90% of the run\n",
    "        sol_1.append([abs(mean(v_t[-int(t*0.9):])),mean(burn_t[-int(t*0.9):])])\n",
    "    # save these for each diffusion coefficient\n",
    "    sol_0atotb.append(sol_1)\n",
    "display.clear_output(wait=True)"
   ]
  },
  {
   "cell_type": "markdown",
   "id": "9b9f312c",
   "metadata": {},
   "source": [
    "### plotting efficiency vs. D"
   ]
  },
  {
   "cell_type": "code",
   "execution_count": 9,
   "id": "38bd017c",
   "metadata": {},
   "outputs": [
    {
     "data": {
      "text/plain": [
       "Text(0, 0.5, 'Relative Efficiency')"
      ]
     },
     "execution_count": 9,
     "metadata": {},
     "output_type": "execute_result"
    },
    {
     "data": {
      "image/png": "[encoded data removed]",
      "text/plain": [
       "<Figure size 432x288 with 1 Axes>"
      ]
     },
     "metadata": {
      "needs_background": "light"
     },
     "output_type": "display_data"
    }
   ],
   "source": [
    "#plot all at once\n",
    "'''sol_0D = array(sol_0D)\n",
    "effsD = []\n",
    "for i in range(len(sol_0D)):\n",
    "    vs = mean(sol_0D[i][:,0],axis=0)\n",
    "    burns = mean(sol_0D[i][:,1],axis=0)\n",
    "    effsD.append(1/Ds[i] *vs**2 / burns)\n",
    "sol_0atot = array(sol_0atot)\n",
    "effsatot = []\n",
    "for i in range(len(sol_0atot)):\n",
    "    vs = mean(sol_0atot[i][:,0],axis=0)\n",
    "    burns = mean(sol_0atot[i][:,1],axis=0)\n",
    "    effsatot.append(vs**2 / burns)'''\n",
    "sol_0Db = array(sol_0Db)\n",
    "effsDb = []\n",
    "for i in range(len(sol_0Db)):\n",
    "    vs = mean(sol_0Db[i][:,0],axis=0)\n",
    "    burns = mean(sol_0Db[i][:,1],axis=0)\n",
    "    effsDb.append(1/Ds[i] *vs**2 / burns)\n",
    "'''sol_0atotb = array(sol_0atotb)\n",
    "effsatotb = []\n",
    "for i in range(len(sol_0atotb)):\n",
    "    vs = mean(sol_0atotb[i][:,0],axis=0)\n",
    "    burns = mean(sol_0atotb[i][:,1],axis=0)\n",
    "    effsatotb.append(vs**2 / burns)'''\n",
    "\n",
    "#plot(Ds,effsD,\".-\", label= \"Unbiased, $a_0 = 1/\\sigma$\")\n",
    "#plot(atots/N,effsatot,\".-\",label= \"Unbiased, $a_0 = \\gamma r \\sigma/ k_B T$\")\n",
    "plot(Ds,effsDb,\".-\", label= \"Biased, $a_0 = 1/\\sigma$\")\n",
    "#plot(atots/N,effsatotb,\".-\", label= \"Biased, $a_0 = \\gamma r \\sigma/ k_B T$\")\n",
    "#legend()\n",
    "xscale(\"log\")\n",
    "yscale('log')\n",
    "xlabel(\"D'\")\n",
    "ylabel(\"Relative Efficiency\")\n",
    "    "
   ]
  },
  {
   "cell_type": "markdown",
   "id": "90c52d30",
   "metadata": {},
   "source": [
    "### ensuring dt stable at dt = 1e-3\n",
    "#### (a0 = 1/ sigma)"
   ]
  },
  {
   "cell_type": "code",
   "execution_count": 8,
   "id": "ede64665",
   "metadata": {},
   "outputs": [],
   "source": [
    "\n",
    "dt_n = 7\n",
    "dts = logspace(-4,-1,dt_n,base = 10)\n",
    "D = 1.0\n",
    "\n",
    "sol_0 = []\n",
    "for dt in dts: \n",
    "    sol_1 = []\n",
    "    tf = 400.0\n",
    "    for run in range(run_n):\n",
    "        xp = 0.0\n",
    "        Ac = zeros(Nx)\n",
    "        \n",
    "        As = zeros(Nx) \n",
    "        As[xs > 2.0] = N\n",
    "        As[xs < -2.0] = N\n",
    "\n",
    "        xp_t = []\n",
    "        v_t = []\n",
    "        burn_t = []\n",
    "        \n",
    "        noisescale = sqrt(2*dt*D)\n",
    "        t_max = int(tf/dt)\n",
    "        for t in range(t_max): \n",
    "            \n",
    "            total_f = D * trapz(-(xp -xs) * Ac, x=xs)\n",
    "            binding = exp(-0.5 * (xp - xs) ** 2) * As\n",
    "            burnt = nu * Ac\n",
    "            Ac += (binding - burnt) *dt\n",
    "            As += (- binding) * dt\n",
    "            noise = noisescale* random.normal(0.0,1.0)\n",
    "            xp += total_f * dt + noise \n",
    "\n",
    "            if t % 10.0 == 0.0:\n",
    "                xp_t.append(xp)\n",
    "                v_t.append(total_f+noise/dt)\n",
    "                burn_t.append(trapz(Ac*nu,x=xs))\n",
    "                                \n",
    "            if abs(xp) > length -5.0:\n",
    "                break\n",
    "        \n",
    "        sol_1.append([abs(mean(v_t[-int(t*0.9):])),mean(burn_t[-int(t*0.9):])])\n",
    "    sol_0.append(sol_1)"
   ]
  },
  {
   "cell_type": "markdown",
   "id": "324ee549",
   "metadata": {},
   "source": [
    "#### plot efficiency vs. dt (a0 = 1\\sigma)"
   ]
  },
  {
   "cell_type": "code",
   "execution_count": 9,
   "id": "a89a1991",
   "metadata": {},
   "outputs": [
    {
     "name": "stdout",
     "output_type": "stream",
     "text": [
      "(7, 50, 2)\n"
     ]
    },
    {
     "data": {
      "text/plain": [
       "Text(0, 0.5, 'Relative Efficiency')"
      ]
     },
     "execution_count": 9,
     "metadata": {},
     "output_type": "execute_result"
    },
    {
     "data": {
      "image/png": "[encoded data removed]",
      "text/plain": [
       "<Figure size 432x288 with 1 Axes>"
      ]
     },
     "metadata": {
      "needs_background": "light"
     },
     "output_type": "display_data"
    }
   ],
   "source": [
    "sol_0 = array(sol_0)\n",
    "print(sol_0.shape)\n",
    "effs = []\n",
    "for i in range(len(sol_0)):\n",
    "    vs = mean(sol_0[i][:,0],axis=0)\n",
    "    burns = mean(sol_0[i][:,1],axis=0)\n",
    "    effs.append(1/D *vs**2 / burns)\n",
    "plot(dts,effs,\".-\")\n",
    "#legend()\n",
    "xscale(\"log\")\n",
    "yscale('log')\n",
    "xlabel(\"dt\")\n",
    "ylabel(\"Relative Efficiency\")\n",
    "    "
   ]
  },
  {
   "cell_type": "markdown",
   "id": "9f8ed461",
   "metadata": {},
   "source": [
    "### ensuring dt stable at dt = 1e-3\n",
    "#### (a0 = gamma r siglam / KB T)"
   ]
  },
  {
   "cell_type": "code",
   "execution_count": null,
   "id": "dbd92115",
   "metadata": {},
   "outputs": [],
   "source": [
    "\n",
    "atot = 100.0\n",
    "\n",
    "sol_0 = []\n",
    "for dt in dts: \n",
    "    sol_1 = []\n",
    "    tf = 400.0\n",
    "    for run in range(run_n):\n",
    "        xp = 0.0\n",
    "        Ac = zeros(Nx)\n",
    "        \n",
    "        As = zeros(Nx) \n",
    "        As[xs > 2.0] = atot\n",
    "        As[xs < -2.0] = atot\n",
    "\n",
    "        t_max = int(tf/dt)\n",
    "        xp_t = []\n",
    "        v_t = []\n",
    "        burn_t = []\n",
    "        noisescale = sqrt(2*dt*atot/N)\n",
    "        for t in range(t_max): \n",
    "            \n",
    "            total_f = trapz(-(xp -xs) * Ac, x=xs)\n",
    "            binding = exp(-0.5 * (xp - xs) ** 2) * As\n",
    "            burnt = nu * Ac\n",
    "            Ac += (binding - burnt) *dt\n",
    "            As += (- binding) * dt\n",
    "            noise = noisescale* random.normal(0.0,1.0)\n",
    "            xp += total_f * dt + noise \n",
    "\n",
    "            if t % 10.0 == 0.0:\n",
    "                xp_t.append(xp)\n",
    "                v_t.append(total_f+noise/dt)\n",
    "                burn_t.append(trapz(Ac*nu,x=xs))\n",
    "\n",
    "            if abs(xp) > length -5.0:\n",
    "                break\n",
    "        \n",
    "        sol_1.append([abs(mean(v_t[-int(t*0.9):])),mean(burn_t[-int(t*0.9):])])\n",
    "    sol_0.append(sol_1)"
   ]
  },
  {
   "cell_type": "markdown",
   "id": "f785aaec",
   "metadata": {},
   "source": [
    "#### plot efficiency vs. dt (a0 = gamma r sigma\\KB T)"
   ]
  },
  {
   "cell_type": "code",
   "execution_count": null,
   "id": "d91e0c79",
   "metadata": {},
   "outputs": [],
   "source": [
    "sol_0 = array(sol_0)\n",
    "print(sol_0.shape)\n",
    "effs = []\n",
    "for i in range(len(sol_0)):\n",
    "    vs = mean(sol_0[i][:,0],axis=0)\n",
    "    burns = mean(sol_0[i][:,1],axis=0)\n",
    "    effs.append(N/atot *vs**2 / burns)\n",
    "plot(dts,effs,\".-\")\n",
    "#legend()\n",
    "xscale(\"log\")\n",
    "yscale('log')\n",
    "xlabel(\"dt\")\n",
    "ylabel(\"Relative Efficiency\")\n",
    "    "
   ]
  },
  {
   "cell_type": "code",
   "execution_count": null,
   "id": "97709bc0",
   "metadata": {},
   "outputs": [],
   "source": []
  }
 ],
 "metadata": {
  "kernelspec": {
   "display_name": "Python 3",
   "language": "python",
   "name": "python3"
  },
  "language_info": {
   "codemirror_mode": {
    "name": "ipython",
    "version": 3
   },
   "file_extension": ".py",
   "mimetype": "text/x-python",
   "name": "python",
   "nbconvert_exporter": "python",
   "pygments_lexer": "ipython3",
   "version": "3.8.8"
  }
 },
 "nbformat": 4,
 "nbformat_minor": 5
}
