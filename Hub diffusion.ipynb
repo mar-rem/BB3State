{
 "cells": [
  {
   "cell_type": "code",
   "execution_count": 1,
   "id": "89000476",
   "metadata": {},
   "outputs": [
    {
     "name": "stdout",
     "output_type": "stream",
     "text": [
      "Populating the interactive namespace from numpy and matplotlib\n"
     ]
    }
   ],
   "source": [
    "%pylab qt\n",
    "import scipy.integrate as integrate\n",
    "from IPython import display"
   ]
  },
  {
   "cell_type": "code",
   "execution_count": 2,
   "id": "612ccf22",
   "metadata": {},
   "outputs": [
    {
     "data": {
      "text/plain": [
       "(array([1., 2., 4.]),\n",
       " array([ 0.25      ,  0.35355339,  0.5       ,  0.70710678,  1.        ,\n",
       "         1.41421356,  2.        ,  2.82842712,  4.        ,  5.65685425,\n",
       "         8.        , 11.3137085 , 16.        , 22.627417  , 32.        ]))"
      ]
     },
     "execution_count": 2,
     "metadata": {},
     "output_type": "execute_result"
    }
   ],
   "source": [
    "# use solve_ivp to find solution from t0=0 up to a max tf (definec on next cell), but stop if x hits x=20.0\n",
    "\n",
    "diff_n = 15\n",
    "diffs = logspace(-2,5, diff_n,base = 2)\n",
    "a0_n = 3\n",
    "a0s = logspace(0,2,a0_n,base = 2)\n",
    "ratio = 1.0\n",
    "\n",
    "\n",
    "# define domain and lattice\n",
    "length = 30.0\n",
    "Lmax = length\n",
    "Lmin = -length\n",
    "dx = 0.1\n",
    "Nx = int((Lmax-Lmin)/dx) +1\n",
    "xs = linspace(Lmin, Lmax, Nx)\n",
    "\n",
    "a0s,diffs\n"
   ]
  },
  {
   "cell_type": "code",
   "execution_count": null,
   "id": "264e54ef",
   "metadata": {},
   "outputs": [
    {
     "name": "stdout",
     "output_type": "stream",
     "text": [
      "diffusion coefficient:   0.25\n",
      "0.29897474709106603\n",
      "diffusion coefficient:   0.3535533905932738\n"
     ]
    }
   ],
   "source": [
    "# euler method\n",
    "# cannot use adaptive timesteps methods\n",
    "\n",
    "\n",
    "w = 0.0\n",
    "delta = 0.1\n",
    "\n",
    "\n",
    "run_n = 50\n",
    "\n",
    "sol_a0 = []\n",
    "\n",
    "\n",
    "for a0 in a0s:\n",
    "    nu = ratio*a0\n",
    "    sol_diff = []\n",
    "    for diff in diffs: \n",
    "        print(\"diffusion coefficient:  \", diff)\n",
    "        tf = 400.0\n",
    "\n",
    "        v_run = []\n",
    "        xp_run = []\n",
    "        burnt_run = []\n",
    "        eff_run = []\n",
    "        t_max_run = []\n",
    "\n",
    "        for run in range(run_n):\n",
    "            # A0x = a0*ones(Nx) + 0.1*a0*2.0*(0.5-random.random(Nx))\n",
    "\n",
    "            xp = 0.0\n",
    "            As = zeros(Nx)\n",
    "            As[xs > 0.0] = a0\n",
    "            As = ones(Nx) *a0 # no build in asymmetry\n",
    "            Ac = zeros(Nx)\n",
    "\n",
    "\n",
    "            dt = 0.001\n",
    "            t_max = int(tf/dt)\n",
    "            xp_t = []\n",
    "            eff_t = []\n",
    "            v_t = []\n",
    "            burnt_t = []\n",
    "\n",
    "            for t in range(t_max): ## loop through for every time step\n",
    "                ## first determine total force on hub\n",
    "                eps = 1e-8\n",
    "                jj = where(Ac < eps)[0] # check where Acx is very small (and log(Acx) will be a problem)\n",
    "                Acx_temp = Ac.copy()    # make a temporary copy to change, so that Acx does not need to be changed\n",
    "                Acx_temp[jj] =  1e-10     \n",
    "                err = (log(eps)-log(Acx_temp))\n",
    "\n",
    "\n",
    "                wr = zeros(Nx)\n",
    "                ii = where(err < 0.0)[0]\n",
    "                wr[ii] = w*Ac[ii]\n",
    "                force_unbinding = wr * exp(abs(xp - xs) * delta)\n",
    "\n",
    "                noise = sqrt(2*dt) * diff* random.normal(0.0,1.0)\n",
    "\n",
    "                total_f = trapz(-(xp -xs) * Ac, x=xs) \n",
    "                binding = exp(-0.5 * (xp - xs) ** 2) * As\n",
    "                burnt = nu * Ac\n",
    "                Ac += (binding - burnt -force_unbinding) *dt\n",
    "                As += (- binding + force_unbinding) * dt\n",
    "                xp += total_f * dt + noise \n",
    "                xp_t.append(xp)\n",
    "                v_t.append(total_f)\n",
    "                burnrate = trapz(Ac,x= xs)*nu\n",
    "                burnt_t.append(burnrate)\n",
    "                eff_t.append(total_f**2/burnrate)\n",
    "\n",
    "                if abs(xp) > length-10:\n",
    "                    t_max = t+1\n",
    "                    break\n",
    "                     \n",
    "            # take the average and standard deviation of the last 10%\n",
    "            back = -int(t_max*0.1)\n",
    "            v_run.append([mean(array(v_t[back:])),std(array(v_t[back:]))])\n",
    "            burnt_run.append([mean(array(burnt_t[back:])),std(array(burnt_t[back:]))])\n",
    "            eff_run.append([mean(array(eff_t[back:])),std(array(eff_t[back:]))])\n",
    "            t_max_run.append(t_max)\n",
    "            #print(\"run \",run+1,\" of \", run_n, \" tf: \", t_max*dt, \" eff: \", eff_run[-1])\n",
    "        \n",
    "        \n",
    "        sol_diff.append([v_run,burnt_run,eff_run])\n",
    "        print(mean(array(eff_run)[:,0]))\n",
    "    sol_a0.append(sol_diff)\n",
    "sol_a0 = array(sol_a0)\n",
    "    \n",
    "\n",
    "\n",
    "\n"
   ]
  },
  {
   "cell_type": "code",
   "execution_count": 10,
   "id": "c61c9cb6",
   "metadata": {},
   "outputs": [
    {
     "data": {
      "text/plain": [
       "[<matplotlib.lines.Line2D at 0x242f72b5df0>]"
      ]
     },
     "execution_count": 10,
     "metadata": {},
     "output_type": "execute_result"
    }
   ],
   "source": [
    "manual = array([0.29896721570563795,0.29896721570563795,0.2527086003916723,0.23044497644630416,0.26069353292276604,\n",
    "                0.30729720678797995,0.4957873749684834,1.0106629053652687,2.438834687075044,7.0793488448516415,\n",
    "               21.412074460670173,54.298919654035316,88.27530587371079,98.17098597980464,93.5311167702953,59.19506399465455])\n",
    "manual2 = array([0.18564195715377152,0.1598450516231934,0.1385964452996805,0.13765811410588685,0.13607911214237534,\n",
    "                 0.18259645690506268,0.36898998779053793,1.0094562825131819,2.4639800006694776,6.051654114782606,\n",
    "                22.3308101214127,41.932263772842944,75.02247887849822,64.05013403077986,30.072115766274])\n",
    "plot(manual)\n",
    "plot(manual2)"
   ]
  },
  {
   "cell_type": "code",
   "execution_count": 43,
   "id": "8e35939d",
   "metadata": {},
   "outputs": [
    {
     "name": "stdout",
     "output_type": "stream",
     "text": [
      "0.28565052107054373 0.10649904443864239 0.11530661799672084 0.008807573558078458\n",
      "0.26746877741762654 0.3575754696062501 0.15125164040799444 0.20632382919825565\n",
      "1.8392481880954665 2.6598302181879654 1.0868556735400166 1.5729745446479488\n",
      "95.57188700356033 68.88153555433803 77.69038215590338 8.80884660156535\n",
      "40.07796187952325 26.656698553457552 31.087313410917726 4.430614857460174\n"
     ]
    }
   ],
   "source": [
    "for a0 in range(a0_n):\n",
    "    for diff in range(diff_n):\n",
    "        \n",
    "        effave = mean(sol_a0[a0][diff][2][:,0])\n",
    "        \n",
    "        effstd = sqrt(mean(sol_a0[a0][diff][2][:,1]**2))\n",
    "        effstd2 = std(sol_a0[a0][diff][2][:,0])\n",
    "        print(effave,effstd,effstd2,abs(effstd-effstd2))"
   ]
  },
  {
   "cell_type": "code",
   "execution_count": 7,
   "id": "b084c170",
   "metadata": {},
   "outputs": [
    {
     "ename": "IndexError",
     "evalue": "index 1 is out of bounds for axis 0 with size 1",
     "output_type": "error",
     "traceback": [
      "\u001b[1;31m---------------------------------------------------------------------------\u001b[0m",
      "\u001b[1;31mIndexError\u001b[0m                                Traceback (most recent call last)",
      "\u001b[1;32m<ipython-input-7-befc81b50cbb>\u001b[0m in \u001b[0;36m<module>\u001b[1;34m\u001b[0m\n\u001b[0;32m      8\u001b[0m     \u001b[1;32mfor\u001b[0m \u001b[0mdiff\u001b[0m \u001b[1;32min\u001b[0m \u001b[0mrange\u001b[0m\u001b[1;33m(\u001b[0m\u001b[0mdiff_n\u001b[0m\u001b[1;33m)\u001b[0m\u001b[1;33m:\u001b[0m\u001b[1;33m\u001b[0m\u001b[1;33m\u001b[0m\u001b[0m\n\u001b[0;32m      9\u001b[0m \u001b[1;33m\u001b[0m\u001b[0m\n\u001b[1;32m---> 10\u001b[1;33m         \u001b[0mburnave\u001b[0m \u001b[1;33m=\u001b[0m \u001b[0mmean\u001b[0m\u001b[1;33m(\u001b[0m\u001b[0msol_a0\u001b[0m\u001b[1;33m[\u001b[0m\u001b[0ma0\u001b[0m\u001b[1;33m]\u001b[0m\u001b[1;33m[\u001b[0m\u001b[0mdiff\u001b[0m\u001b[1;33m]\u001b[0m\u001b[1;33m[\u001b[0m\u001b[1;36m1\u001b[0m\u001b[1;33m]\u001b[0m\u001b[1;33m[\u001b[0m\u001b[1;33m:\u001b[0m\u001b[1;33m,\u001b[0m\u001b[1;36m0\u001b[0m\u001b[1;33m]\u001b[0m\u001b[1;33m)\u001b[0m\u001b[1;33m\u001b[0m\u001b[1;33m\u001b[0m\u001b[0m\n\u001b[0m\u001b[0;32m     11\u001b[0m         \u001b[0meffave\u001b[0m \u001b[1;33m=\u001b[0m \u001b[0mmean\u001b[0m\u001b[1;33m(\u001b[0m\u001b[0msol_a0\u001b[0m\u001b[1;33m[\u001b[0m\u001b[0ma0\u001b[0m\u001b[1;33m]\u001b[0m\u001b[1;33m[\u001b[0m\u001b[0mdiff\u001b[0m\u001b[1;33m]\u001b[0m\u001b[1;33m[\u001b[0m\u001b[1;36m2\u001b[0m\u001b[1;33m]\u001b[0m\u001b[1;33m[\u001b[0m\u001b[1;33m:\u001b[0m\u001b[1;33m,\u001b[0m\u001b[1;36m0\u001b[0m\u001b[1;33m]\u001b[0m\u001b[1;33m)\u001b[0m\u001b[1;33m\u001b[0m\u001b[1;33m\u001b[0m\u001b[0m\n\u001b[0;32m     12\u001b[0m         \u001b[0mspeedave\u001b[0m \u001b[1;33m=\u001b[0m \u001b[0mmean\u001b[0m\u001b[1;33m(\u001b[0m\u001b[0msol_a0\u001b[0m\u001b[1;33m[\u001b[0m\u001b[0ma0\u001b[0m\u001b[1;33m]\u001b[0m\u001b[1;33m[\u001b[0m\u001b[0mdiff\u001b[0m\u001b[1;33m]\u001b[0m\u001b[1;33m[\u001b[0m\u001b[1;36m0\u001b[0m\u001b[1;33m]\u001b[0m\u001b[1;33m[\u001b[0m\u001b[1;33m:\u001b[0m\u001b[1;33m,\u001b[0m\u001b[1;36m0\u001b[0m\u001b[1;33m]\u001b[0m\u001b[1;33m)\u001b[0m\u001b[1;33m\u001b[0m\u001b[1;33m\u001b[0m\u001b[0m\n",
      "\u001b[1;31mIndexError\u001b[0m: index 1 is out of bounds for axis 0 with size 1"
     ]
    }
   ],
   "source": [
    "# for average already calculated and stored\n",
    "# plot efficiency for each run \n",
    "\n",
    "for a0 in range(a0_n):\n",
    "    eff = zeros((diff_n,2))\n",
    "    burn = zeros((diff_n,2))\n",
    "    speed = zeros((diff_n,2))\n",
    "    for diff in range(diff_n):\n",
    "        \n",
    "        burnave = mean(sol_a0[a0][diff][1][:,0])\n",
    "        effave = mean(sol_a0[a0][diff][2][:,0])\n",
    "        speedave = mean(sol_a0[a0][diff][0][:,0])\n",
    "        \n",
    "        burnstd = std(sol_a0[a0][diff][1][:,0])\n",
    "        effstd = std(sol_a0[a0][diff][2][:,0])\n",
    "        speedstd = std(sol_a0[a0][diff][0][:,0])\n",
    "\n",
    "        burn[diff,0],burn[diff,1] = burnave,burnstd \n",
    "        eff[diff,0],eff[diff,1] = effave,effstd\n",
    "        speed[diff,0],speed[diff,1] = abs(speedave),speedstd\n",
    "    errorbar(diffs,eff[:,0], yerr = eff[:,1], label = \"$a_{tot}$: \"+ str(a0s[a0])+r\" $\\nu'$: \" +str(a0s[a0]*ratio))\n",
    "    #errorbar(diffs,burn[:,0], yerr = burn[:,1], label = \"$a_{tot}$: \"+ str(a0s[a0])+r\" $\\nu'$: \" +str(a0s[a0]*ratio))\n",
    "    #errorbar(diffs,speed[:,0], yerr = speed[:,1], label = \"$a_{tot}$: \"+ str(a0s[a0])+r\" $\\nu'$: \" +str(a0s[a0]*ratio))\n",
    "    title(\"Relative efficiency for varying diffusion rates\")\n",
    "    xlabel(\"D'\")\n",
    "    ylabel(r\"$\\eta$\")\n",
    "    legend()"
   ]
  },
  {
   "cell_type": "code",
   "execution_count": 40,
   "id": "69344964",
   "metadata": {},
   "outputs": [
    {
     "ename": "KeyboardInterrupt",
     "evalue": "Interrupted by user",
     "output_type": "error",
     "traceback": [
      "\u001b[1;31m---------------------------------------------------------------------------\u001b[0m",
      "\u001b[1;31mKeyboardInterrupt\u001b[0m                         Traceback (most recent call last)",
      "\u001b[1;32m<ipython-input-40-76e738ca4983>\u001b[0m in \u001b[0;36m<module>\u001b[1;34m\u001b[0m\n\u001b[0;32m      3\u001b[0m \u001b[1;32mfor\u001b[0m \u001b[0mdiff\u001b[0m \u001b[1;32min\u001b[0m \u001b[0mrange\u001b[0m\u001b[1;33m(\u001b[0m\u001b[0mdiff_n\u001b[0m\u001b[1;33m)\u001b[0m\u001b[1;33m:\u001b[0m\u001b[1;33m\u001b[0m\u001b[1;33m\u001b[0m\u001b[0m\n\u001b[0;32m      4\u001b[0m     \u001b[0mdisplay\u001b[0m\u001b[1;33m.\u001b[0m\u001b[0mclear_output\u001b[0m\u001b[1;33m(\u001b[0m\u001b[0mwait\u001b[0m\u001b[1;33m=\u001b[0m\u001b[1;32mTrue\u001b[0m\u001b[1;33m)\u001b[0m\u001b[1;33m\u001b[0m\u001b[1;33m\u001b[0m\u001b[0m\n\u001b[1;32m----> 5\u001b[1;33m     \u001b[0minput\u001b[0m\u001b[1;33m(\u001b[0m\u001b[1;34m\"Press enter to continue\"\u001b[0m\u001b[1;33m)\u001b[0m\u001b[1;33m\u001b[0m\u001b[1;33m\u001b[0m\u001b[0m\n\u001b[0m\u001b[0;32m      6\u001b[0m     \u001b[0mcla\u001b[0m\u001b[1;33m(\u001b[0m\u001b[1;33m)\u001b[0m\u001b[1;33m\u001b[0m\u001b[1;33m\u001b[0m\u001b[0m\n\u001b[0;32m      7\u001b[0m \u001b[1;33m\u001b[0m\u001b[0m\n",
      "\u001b[1;32mC:\\ProgramData\\Anaconda3\\lib\\site-packages\\ipykernel\\kernelbase.py\u001b[0m in \u001b[0;36mraw_input\u001b[1;34m(self, prompt)\u001b[0m\n\u001b[0;32m    858\u001b[0m                 \u001b[1;34m\"raw_input was called, but this frontend does not support input requests.\"\u001b[0m\u001b[1;33m\u001b[0m\u001b[1;33m\u001b[0m\u001b[0m\n\u001b[0;32m    859\u001b[0m             )\n\u001b[1;32m--> 860\u001b[1;33m         return self._input_request(str(prompt),\n\u001b[0m\u001b[0;32m    861\u001b[0m             \u001b[0mself\u001b[0m\u001b[1;33m.\u001b[0m\u001b[0m_parent_ident\u001b[0m\u001b[1;33m,\u001b[0m\u001b[1;33m\u001b[0m\u001b[1;33m\u001b[0m\u001b[0m\n\u001b[0;32m    862\u001b[0m             \u001b[0mself\u001b[0m\u001b[1;33m.\u001b[0m\u001b[0m_parent_header\u001b[0m\u001b[1;33m,\u001b[0m\u001b[1;33m\u001b[0m\u001b[1;33m\u001b[0m\u001b[0m\n",
      "\u001b[1;32mC:\\ProgramData\\Anaconda3\\lib\\site-packages\\ipykernel\\kernelbase.py\u001b[0m in \u001b[0;36m_input_request\u001b[1;34m(self, prompt, ident, parent, password)\u001b[0m\n\u001b[0;32m    902\u001b[0m             \u001b[1;32mexcept\u001b[0m \u001b[0mKeyboardInterrupt\u001b[0m\u001b[1;33m:\u001b[0m\u001b[1;33m\u001b[0m\u001b[1;33m\u001b[0m\u001b[0m\n\u001b[0;32m    903\u001b[0m                 \u001b[1;31m# re-raise KeyboardInterrupt, to truncate traceback\u001b[0m\u001b[1;33m\u001b[0m\u001b[1;33m\u001b[0m\u001b[1;33m\u001b[0m\u001b[0m\n\u001b[1;32m--> 904\u001b[1;33m                 \u001b[1;32mraise\u001b[0m \u001b[0mKeyboardInterrupt\u001b[0m\u001b[1;33m(\u001b[0m\u001b[1;34m\"Interrupted by user\"\u001b[0m\u001b[1;33m)\u001b[0m \u001b[1;32mfrom\u001b[0m \u001b[1;32mNone\u001b[0m\u001b[1;33m\u001b[0m\u001b[1;33m\u001b[0m\u001b[0m\n\u001b[0m\u001b[0;32m    905\u001b[0m             \u001b[1;32mexcept\u001b[0m \u001b[0mException\u001b[0m \u001b[1;32mas\u001b[0m \u001b[0me\u001b[0m\u001b[1;33m:\u001b[0m\u001b[1;33m\u001b[0m\u001b[1;33m\u001b[0m\u001b[0m\n\u001b[0;32m    906\u001b[0m                 \u001b[0mself\u001b[0m\u001b[1;33m.\u001b[0m\u001b[0mlog\u001b[0m\u001b[1;33m.\u001b[0m\u001b[0mwarning\u001b[0m\u001b[1;33m(\u001b[0m\u001b[1;34m\"Invalid Message:\"\u001b[0m\u001b[1;33m,\u001b[0m \u001b[0mexc_info\u001b[0m\u001b[1;33m=\u001b[0m\u001b[1;32mTrue\u001b[0m\u001b[1;33m)\u001b[0m\u001b[1;33m\u001b[0m\u001b[1;33m\u001b[0m\u001b[0m\n",
      "\u001b[1;31mKeyboardInterrupt\u001b[0m: Interrupted by user"
     ]
    }
   ],
   "source": [
    "# plot position vs. time \n",
    "\n",
    "for diff in range(diff_n):\n",
    "    display.clear_output(wait=True)\n",
    "    input(\"Press enter to continue\")\n",
    "    cla()\n",
    "    \n",
    "    t_max = sol_diff[diff][-1]\n",
    "    tf = t_max*dt\n",
    "    v_ave = zeros(t_max)\n",
    "    for run in range(run_n):\n",
    "        v = zeros(t_max)\n",
    "        for t in range(t_max):\n",
    "            v[t] = sol_diff[diff][run][1][t]\n",
    "        v_ave += v/run_n\n",
    "            \n",
    "         \n",
    "        plot(linspace(0,tf,t_max),v,\"--\")\n",
    "        #plot(linspace(0,0.01,10),v[-10:],\"--\")\n",
    "    plot(linspace(0,tf,t_max),v_ave,\"b-\", label = \"average\")\n",
    "    #plot(linspace(0,0.01,10),v_ave[-10:],\"b-\", label = \"average\")\n",
    "    xlabel(\"time\")\n",
    "    ylabel(\"position\")\n",
    "    legend()\n",
    "    display.display(gcf())"
   ]
  },
  {
   "cell_type": "code",
   "execution_count": null,
   "id": "0101991d",
   "metadata": {},
   "outputs": [],
   "source": [
    "# plot efficiency for each run \n",
    "back = -100  \n",
    "eff = []\n",
    "burn = []\n",
    "for diff in range(diff_n):\n",
    "    burn_run = []\n",
    "    eff_run = []\n",
    "    for run in range(run_n):\n",
    "        burnave = mean(array(sol_diff[diff][run][2][back:]))\n",
    "        effave = mean(array(sol_diff[diff][run][3][back:]))\n",
    "        burn_run.append(burnave)\n",
    "        eff_run.append(effave)\n",
    "       \n",
    "    eff.append(mean(array(eff_run)))\n",
    "    burn.append(mean(array(burn_run)))    "
   ]
  },
  {
   "cell_type": "code",
   "execution_count": null,
   "id": "d9a80e22",
   "metadata": {},
   "outputs": [],
   "source": [
    "plot(diffs,burn)\n",
    "xlabel(\"diffusion constant\")\n",
    "ylabel(\"efficiency\")\n",
    "#xscale('log')\n",
    "#legend()"
   ]
  },
  {
   "cell_type": "code",
   "execution_count": 15,
   "id": "5954a627",
   "metadata": {},
   "outputs": [
    {
     "name": "stdout",
     "output_type": "stream",
     "text": [
      "0\n",
      "1\n",
      "2\n",
      "3\n",
      "4\n"
     ]
    },
    {
     "data": {
      "image/png": "[encoded data removed]",
      "text/plain": [
       "<Figure size 640x480 with 1 Axes>"
      ]
     },
     "metadata": {},
     "output_type": "display_data"
    },
    {
     "name": "stdout",
     "output_type": "stream",
     "text": [
      "Press enter to continue\n"
     ]
    }
   ],
   "source": [
    "# for average already calculated and stored\n",
    "# plot position vs. time \n",
    "for a0 in range(a0_n):\n",
    "    display.clear_output(wait=True)\n",
    "    cla()\n",
    "    for diff in range(diff_n):\n",
    "        print(diff)\n",
    "\n",
    "        t_max = sol_a0[a0][diff][-1]\n",
    "        tf = t_max*dt\n",
    "        xp_ave = abs(sol_a0[a0][diff][1][0])\n",
    "\n",
    "        \n",
    "        \n",
    "        \n",
    "        \n",
    "        plot(linspace(0,tf,t_max),xp_ave, label = \"diff: \"+str(diffs[diff]))\n",
    "        #plot(linspace(0,0.01,10),v_ave[-10:],\"b-\", label = \"average\")\n",
    "        xlabel(\"time\")\n",
    "        ylabel(\"position\")  \n",
    "        legend()\n",
    "    display.display(gcf())\n",
    "    input(\"Press enter to continue\")"
   ]
  },
  {
   "cell_type": "code",
   "execution_count": null,
   "id": "c199c1a5",
   "metadata": {},
   "outputs": [],
   "source": []
  }
 ],
 "metadata": {
  "kernelspec": {
   "display_name": "Python 3",
   "language": "python",
   "name": "python3"
  },
  "language_info": {
   "codemirror_mode": {
    "name": "ipython",
    "version": 3
   },
   "file_extension": ".py",
   "mimetype": "text/x-python",
   "name": "python",
   "nbconvert_exporter": "python",
   "pygments_lexer": "ipython3",
   "version": "3.8.8"
  }
 },
 "nbformat": 4,
 "nbformat_minor": 5
}
