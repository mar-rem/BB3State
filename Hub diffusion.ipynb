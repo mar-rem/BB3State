{
 "cells": [
  {
   "cell_type": "code",
   "execution_count": 1,
   "id": "89000476",
   "metadata": {},
   "outputs": [
    {
     "name": "stdout",
     "output_type": "stream",
     "text": [
      "Populating the interactive namespace from numpy and matplotlib\n"
     ]
    }
   ],
   "source": [
    "%pylab qt\n",
    "import scipy.integrate as integrate\n",
    "from IPython import display\n",
    "matplotlib.rcParams.update({'errorbar.capsize': 2})"
   ]
  },
  {
   "cell_type": "code",
   "execution_count": 25,
   "id": "612ccf22",
   "metadata": {},
   "outputs": [
    {
     "data": {
      "text/plain": [
       "(array([0.  , 0.25, 0.5 , 1.  ]), array([1., 2., 4.]))"
      ]
     },
     "execution_count": 25,
     "metadata": {},
     "output_type": "execute_result"
    }
   ],
   "source": [
    "# use solve_ivp to find solution from t0=0 up to a max tf (definec on next cell), but stop if x hits x=20.0\n",
    "\n",
    "diff_n = 3\n",
    "diffs = concatenate((zeros(1),logspace(-2,0, diff_n, base = 2)))\n",
    "a0_n = 3\n",
    "a0s = logspace(0,2,nu_n,base = 2)\n",
    "nu = 1.0\n",
    "\n",
    "\n",
    "#diffs = logspace(3,5,3,base=2)\n",
    "\n",
    "# define domain and lattice\n",
    "length = 30.0\n",
    "Lmax = length\n",
    "Lmin = -length\n",
    "dx = 0.1\n",
    "Nx = int((Lmax-Lmin)/dx) +1\n",
    "xs = linspace(Lmin, Lmax, Nx)\n",
    "\n",
    "\n",
    "diffs,a0s"
   ]
  },
  {
   "cell_type": "code",
   "execution_count": 26,
   "id": "264e54ef",
   "metadata": {},
   "outputs": [
    {
     "data": {
      "image/png": "[encoded data removed]",
      "text/plain": [
       "<Figure size 640x480 with 1 Axes>"
      ]
     },
     "metadata": {},
     "output_type": "display_data"
    },
    {
     "name": "stdout",
     "output_type": "stream",
     "text": [
      "0.9085791776167104\n"
     ]
    }
   ],
   "source": [
    "# euler method\n",
    "# cannot use adaptive timesteps methods\n",
    "\n",
    "\n",
    "w = 0.0\n",
    "delta = 0.1\n",
    "\n",
    "\n",
    "run_n = 50\n",
    "\n",
    "sol_a0 = []\n",
    "\n",
    "\n",
    "for a0 in a0s:\n",
    "    sol_diff = []\n",
    "    for diff in diffs: \n",
    "        print(\"diffusion coefficient:  \", diff)\n",
    "        tf = 400.0\n",
    "\n",
    "        v_run = []\n",
    "        xp_run = []\n",
    "        burnt_run = []\n",
    "        eff_run = []\n",
    "        t_max_run = []\n",
    "\n",
    "        for run in range(run_n):\n",
    "            # A0x = a0*ones(Nx) + 0.1*a0*2.0*(0.5-random.random(Nx))\n",
    "\n",
    "            xp = 0.0\n",
    "            As = zeros(Nx)\n",
    "            As[xs > -10.0] = a0\n",
    "            Ac = zeros(Nx)\n",
    "            As = ones(Nx) *a0 + random.normal(0.0,0.1, size = Nx)\n",
    "\n",
    "            dt = 0.001\n",
    "            t_max = int(tf/dt)\n",
    "            xp_t = []\n",
    "            eff_t = []\n",
    "            v_t = []\n",
    "            burnt_t = []\n",
    "\n",
    "            for t in range(t_max): ## loop through for every time step\n",
    "                ## first determine total force on hub\n",
    "                eps = 1e-8\n",
    "                jj = where(Ac < eps)[0] # check where Acx is very small (and log(Acx) will be a problem)\n",
    "                Acx_temp = Ac.copy()    # make a temporary copy to change, so that Acx does not need to be changed\n",
    "                Acx_temp[jj] =  1e-10     \n",
    "                err = (log(eps)-log(Acx_temp))\n",
    "\n",
    "\n",
    "                wr = zeros(Nx)\n",
    "                ii = where(err < 0.0)[0]\n",
    "                wr[ii] = w*Ac[ii]\n",
    "                force_unbinding = wr * exp(abs(xp - xs) * delta)\n",
    "\n",
    "                noise = sqrt(2*dt) * diff* random.normal(0.0,1.0)\n",
    "\n",
    "                total_f = trapz(-(xp -xs) * Ac, x=xs) \n",
    "                binding = exp(-0.5 * (xp - xs) ** 2) * As\n",
    "                burnt = nu * Ac\n",
    "                Ac += (binding - burnt -force_unbinding) *dt\n",
    "                As += (- binding + force_unbinding) * dt\n",
    "                xp += total_f * dt + noise \n",
    "                xp_t.append(xp)\n",
    "                v_t.append(total_f)\n",
    "                burnrate = trapz(Ac,x= xs)*nu\n",
    "                burnt_t.append(burnrate)\n",
    "                eff_t.append(total_f**2/burnrate)\n",
    "                \n",
    "                if t % 1000 == 0 and run == 0:\n",
    "                    display.clear_output(wait=True)\n",
    "                    cla()\n",
    "                    plot(xs,Ac)\n",
    "                    plot(xs,As)\n",
    "                    text(-30,a0,\"diff:  \"+ str(round(diff,2))+\"  nu:  \"+str(round(nu,2)))\n",
    "                    axvline(xp)\n",
    "                    display.display(gcf())\n",
    "                    #input(\"Press enter to continue\")\n",
    "\n",
    "                if abs(xp) > length-10:\n",
    "                    t_max = t+1\n",
    "                    break\n",
    "                     \n",
    "            # take the average and standard deviation of the last 10%\n",
    "            back = -int(t_max*0.1)\n",
    "            v_run.append([mean(array(v_t[back:])),std(array(v_t[back:]))])\n",
    "            burnt_run.append([mean(array(burnt_t[back:])),std(array(burnt_t[back:]))])\n",
    "            eff_run.append([mean(array(eff_t[back:])),std(array(eff_t[back:]))])\n",
    "            t_max_run.append(t_max)\n",
    "            #print(\"run \",run+1,\" of \", run_n, \" tf: \", t_max*dt, \" eff: \", eff_run[-1])\n",
    "        \n",
    "        \n",
    "        sol_diff.append([v_run,burnt_run,eff_run])\n",
    "        print(mean(array(eff_run)[:,0]))\n",
    "    sol_a0.append(sol_diff)\n",
    "sol_a0 = array(sol_a0)\n",
    "    \n",
    "\n",
    "\n",
    "\n"
   ]
  },
  {
   "cell_type": "code",
   "execution_count": 79,
   "id": "7761baf1",
   "metadata": {},
   "outputs": [
    {
     "data": {
      "image/png": "[encoded data removed]",
      "text/plain": [
       "<Figure size 640x480 with 1 Axes>"
      ]
     },
     "metadata": {},
     "output_type": "display_data"
    }
   ],
   "source": []
  },
  {
   "cell_type": "code",
   "execution_count": 30,
   "id": "b084c170",
   "metadata": {
    "scrolled": true
   },
   "outputs": [
    {
     "name": "stdout",
     "output_type": "stream",
     "text": [
      "0.3358653795103585 0.0050695284404036756\n",
      "0.3074321173709188 0.09316108491476312\n",
      "0.24506401575147596 0.11579396798690772\n",
      "0.2708152767136346 0.0037690739513013163\n",
      "0.3383677610674849 0.15436873432903742\n",
      "0.38129031140710273 0.2018021724657065\n",
      "0.16661753705096582 0.0013944423715365234\n",
      "0.19448222277718893 0.0740476288666076\n",
      "0.362787473618996 0.16979033418615216\n"
     ]
    }
   ],
   "source": [
    "# for average already calculated and stored\n",
    "# plot efficiency for each run \n",
    "\n",
    "for nu in range(a0_n):\n",
    "    eff = zeros((diff_n+1,2))\n",
    "    burn = zeros((diff_n+1,2))\n",
    "    speed = zeros((diff_n+1,2))\n",
    "    for diff in range(diff_n):\n",
    "        \n",
    "        burnave = mean(sol_a0[nu][diff][1][:,0])\n",
    "        effave = mean(sol_a0[nu][diff][2][:,0])\n",
    "        speedave = mean(sol_a0[nu][diff][0][:,0])\n",
    "        \n",
    "        burnstd = std(sol_a0[nu][diff][1][:,0])\n",
    "        effstd = std(sol_a0[nu][diff][2][:,0])\n",
    "        speedstd = std(sol_a0[nu][diff][0][:,0])\n",
    "\n",
    "        burn[diff,0],burn[diff,1] = burnave,burnstd \n",
    "        eff[diff,0],eff[diff,1] = effave,effstd\n",
    "        speed[diff,0],speed[diff,1] = abs(speedave),speedstd\n",
    "        print(effave,effstd)\n",
    "    n = 3\n",
    "    errorbar(diffs[:n],eff[:,0][:n], yerr = eff[:,1][:n], label = \"$a_{tot}$: \"+ str(a0)+r\" $\\nu'$: \" +str(nus[nu]))\n",
    "    #errorbar(diffs,burn[:,0], yerr = burn[:,1], label = \"$a_{tot}$: \"+ str(a0s[a0])+r\" $\\nu'$: \" +str(a0s[a0]*ratio))\n",
    "    #errorbar(diffs,speed[:,0], yerr = speed[:,1], label = \"$a_{tot}$: \"+ str(a0s[a0])+r\" $\\nu'$: \" +str(a0s[a0]*ratio))\n",
    "    title(\"Relative efficiency for varying diffusion rates\")\n",
    "    xlabel(\"D'\")\n",
    "    ylabel(r\"$\\eta$\")\n",
    "    #yscale(\"log\")\n",
    "    #xscale(\"log\")\n",
    "    legend()\n",
    "    deter= array([0.33574931281694537,0.08226592095092651,0.001874225403442146])\n",
    "    deter = array([0.33574931281694537, 0.2698453494261984,0.16686577133113725])\n",
    "    plot(0,deter[nu],\"*\")"
   ]
  },
  {
   "cell_type": "code",
   "execution_count": 29,
   "id": "e7714b55",
   "metadata": {},
   "outputs": [
    {
     "name": "stdout",
     "output_type": "stream",
     "text": [
      "0.33574931281694537\n",
      "[1. 2. 4.]\n",
      "0.2698453494261984\n",
      "[1. 2. 4.]\n",
      "0.16686577133113725\n",
      "[1. 2. 4.]\n"
     ]
    }
   ],
   "source": [
    "nu= 1.0\n",
    "\n",
    "dt = 0.001\n",
    "t_max = int(400.0/dt)\n",
    "\n",
    "for a0 in a0s:\n",
    "    xp = 0.0\n",
    "    As = zeros(Nx)\n",
    "    As[xs > 0.0] = a0\n",
    "    Ac = zeros(Nx)\n",
    "    eff_t = []\n",
    "\n",
    "    for t in range(t_max): ## loop through for every time step\n",
    "\n",
    "        total_f = trapz(-(xp -xs) * Ac, x=xs) \n",
    "        binding = exp(-0.5 * (xp - xs) ** 2) * As\n",
    "        burnt = nu * Ac\n",
    "        Ac += (binding - burnt ) *dt\n",
    "        As += - binding* dt\n",
    "        xp += total_f * dt\n",
    "        burnrate = trapz(Ac,x= xs)*nu\n",
    "        eff_t.append(total_f**2/burnrate)\n",
    "        \n",
    "        if xp > 20.0:\n",
    "            break\n",
    "    print(eff_t[-1])\n",
    "    print(nus)"
   ]
  },
  {
   "cell_type": "code",
   "execution_count": 123,
   "id": "430a188a",
   "metadata": {},
   "outputs": [
    {
     "data": {
      "text/plain": [
       "<matplotlib.legend.Legend at 0x1c1aaa50850>"
      ]
     },
     "execution_count": 123,
     "metadata": {},
     "output_type": "execute_result"
    }
   ],
   "source": [
    "sigmas = array([0.010570600353505374,0.004102654797699597,0.017606370134392653])\n",
    "randoms = array([0.38096681781364333,0.3357944867956096,0.07684926074698585])\n",
    "deteriministic = array([0.3802554860386229,0.33574931281694537,0.08226592095092651])\n",
    "names = [\"0.5\",\"1.0\",\"2.0\"]\n",
    "bar(names, 2*sigmas, bottom = randoms - sigmas , width = 0.5, label = \"stochastic\")\n",
    "plot(deteriministic,\".\", color = \"red\", label = \"deterministic\")\n",
    "title(\"Deterministic and Stochastic Efficiency for Zero Diffusion\")\n",
    "ylabel(r\"$\\eta$\")\n",
    "xlabel(r\"$\\nu'$\")\n",
    "legend()"
   ]
  },
  {
   "cell_type": "code",
   "execution_count": null,
   "id": "7d98638b",
   "metadata": {},
   "outputs": [],
   "source": []
  }
 ],
 "metadata": {
  "kernelspec": {
   "display_name": "Python 3",
   "language": "python",
   "name": "python3"
  },
  "language_info": {
   "codemirror_mode": {
    "name": "ipython",
    "version": 3
   },
   "file_extension": ".py",
   "mimetype": "text/x-python",
   "name": "python",
   "nbconvert_exporter": "python",
   "pygments_lexer": "ipython3",
   "version": "3.8.8"
  }
 },
 "nbformat": 4,
 "nbformat_minor": 5
}
