{
 "cells": [
  {
   "cell_type": "code",
   "execution_count": 1,
   "source": [
    "%pylab qt\r\n",
    "from scipy.integrate import solve_ivp\r\n",
    "from IPython import display\r\n",
    "import time\r\n",
    "import scipy.integrate as integrate"
   ],
   "outputs": [
    {
     "output_type": "stream",
     "name": "stdout",
     "text": [
      "Populating the interactive namespace from numpy and matplotlib\n"
     ]
    }
   ],
   "metadata": {}
  },
  {
   "cell_type": "code",
   "execution_count": 16,
   "source": [
    "a = linspace(0,1,11)\r\n",
    "b = array([1,2,3,4,5])\r\n",
    "c = arange(4)+1\r\n",
    "d = outer(b,c)\r\n",
    "e = integrate.trapz(d,x=arange(5),axis = 0)\r\n",
    "f = integrate.trapz(d,x= arange(4),axis = 1)\r\n",
    "g = (b -cos(a[:,newaxis]))\r\n",
    "g2 = (b -a[:,newaxis]) + (1-b) \r\n",
    "g3 = sqrt((b -a[:,newaxis])**2 + (1-b)**2 )\r\n",
    "h = mean(d, axis = 0)\r\n",
    "i = std(d,axis=0)\r\n",
    "a,b = 1,3"
   ],
   "outputs": [],
   "metadata": {}
  },
  {
   "cell_type": "code",
   "execution_count": 17,
   "source": [
    "a,b"
   ],
   "outputs": [
    {
     "output_type": "execute_result",
     "data": {
      "text/plain": [
       "(1, 3)"
      ]
     },
     "metadata": {},
     "execution_count": 17
    }
   ],
   "metadata": {}
  }
 ],
 "metadata": {
  "kernelspec": {
   "display_name": "Python 3",
   "language": "python",
   "name": "python3"
  },
  "language_info": {
   "codemirror_mode": {
    "name": "ipython",
    "version": 3
   },
   "file_extension": ".py",
   "mimetype": "text/x-python",
   "name": "python",
   "nbconvert_exporter": "python",
   "pygments_lexer": "ipython3",
   "version": "3.8.8"
  }
 },
 "nbformat": 4,
 "nbformat_minor": 4
}