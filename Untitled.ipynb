{
 "cells": [
  {
   "cell_type": "code",
   "execution_count": 58,
   "id": "1ad9b148",
   "metadata": {},
   "outputs": [
    {
     "data": {
      "text/plain": [
       "['123.01',\n",
       " '0.12',\n",
       " '0.012',\n",
       " '0.062',\n",
       " '6253',\n",
       " '1999',\n",
       " '-3.14',\n",
       " '0',\n",
       " '-48.01',\n",
       " '0.75']"
      ]
     },
     "execution_count": 58,
     "metadata": {},
     "output_type": "execute_result"
    }
   ],
   "source": [
    "a = [123.01123123, 0.12, 0.012, 0.062, 6253, 1999, -3.14, 0., -48.01, 0.75]\n",
    "b = ['{:g}'.format(float('{:.5g}'.format(i))) for i in a]\n",
    "b"
   ]
  },
  {
   "cell_type": "code",
   "execution_count": null,
   "id": "df19db39",
   "metadata": {},
   "outputs": [],
   "source": []
  },
  {
   "cell_type": "code",
   "execution_count": null,
   "id": "e78154bd",
   "metadata": {},
   "outputs": [],
   "source": []
  }
 ],
 "metadata": {
  "kernelspec": {
   "display_name": "Python 3",
   "language": "python",
   "name": "python3"
  },
  "language_info": {
   "codemirror_mode": {
    "name": "ipython",
    "version": 3
   },
   "file_extension": ".py",
   "mimetype": "text/x-python",
   "name": "python",
   "nbconvert_exporter": "python",
   "pygments_lexer": "ipython3",
   "version": "3.8.8"
  }
 },
 "nbformat": 4,
 "nbformat_minor": 5
}
