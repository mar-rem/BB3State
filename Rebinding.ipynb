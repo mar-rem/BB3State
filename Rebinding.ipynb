{
 "cells": [
  {
   "cell_type": "code",
   "execution_count": 1,
   "id": "22f9f0cd",
   "metadata": {},
   "outputs": [
    {
     "name": "stdout",
     "output_type": "stream",
     "text": [
      "Populating the interactive namespace from numpy and matplotlib\n"
     ]
    }
   ],
   "source": [
    "%pylab inline\n",
    "import scipy.integrate as integrate\n",
    "from scipy.optimize import curve_fit"
   ]
  },
  {
   "cell_type": "code",
   "execution_count": 2,
   "id": "a898c5f3",
   "metadata": {},
   "outputs": [],
   "source": [
    "# solve_ivp functions\n",
    "\n",
    "# returns vector of dx/dt, dAcx/dt and dAx/dt in that order\n",
    "\n",
    "def derivs(t, y, nu, xs,K,r,atot):\n",
    "    x0 = y[0]               # position of hub\n",
    "    N = int(0.5*(len(y)-1))   # of lattice sites\n",
    "    Ac = y[1:N+1]          # bound complex on lattice\n",
    "    As = y[-N:]             # unbound complex on lattice\n",
    "    \n",
    "    dxdt = integrate.trapz(-(x0-xs)*Ac, x=xs)\n",
    "    binding = r*exp(-0.5*(x0-xs)**2)*As \n",
    "    burnt = nu*Ac\n",
    "    rebinding = 1/(1+K)*atot-As\n",
    "\n",
    "    dAcdt = (binding - burnt)\n",
    "    dAsdt = -binding +rebinding\n",
    "    \n",
    "    return array( [dxdt] + list(dAcdt) + list(dAsdt))"
   ]
  },
  {
   "cell_type": "code",
   "execution_count": 3,
   "id": "022d9247",
   "metadata": {},
   "outputs": [],
   "source": [
    "# define event as having gone to x = 20.0\n",
    "def event(t, y):\n",
    "    x0 = y[0]\n",
    "        \n",
    "    return 20.0-x0\n",
    "\n",
    "event.direction = 0        \n",
    "event.terminal = True     # stop solver if event satisfied"
   ]
  },
  {
   "cell_type": "code",
   "execution_count": 18,
   "id": "f9c73951",
   "metadata": {},
   "outputs": [
    {
     "name": "stdout",
     "output_type": "stream",
     "text": [
      "[1.] [ 100. 1000.]\n"
     ]
    }
   ],
   "source": [
    "# use solve_ivp to find solution from t0=0 up to a max tf= 400, but stop if x hits x=20.0\n",
    "\n",
    "tf = 40.0\n",
    "\n",
    "a0 = 100.0\n",
    "nu = 100.0\n",
    "\n",
    "Ks = logspace(-2,0,3,base = 10)\n",
    "Ks = ones(1)\n",
    "K_n = len(Ks)\n",
    "rs = logspace(2,3,2,base = 10)\n",
    "#rs = ones(1)*100\n",
    "r_n = len(rs)\n",
    "\n",
    "# define domain and lattice\n",
    "Lmax = 30.0\n",
    "Lmin = -10.0\n",
    "dx = 0.1\n",
    "Nx = int((Lmax-Lmin)/dx) +1\n",
    "xAs = linspace(Lmin, Lmax, Nx)\n",
    "\n",
    "print(Ks,rs)"
   ]
  },
  {
   "cell_type": "code",
   "execution_count": 19,
   "id": "02725330",
   "metadata": {},
   "outputs": [
    {
     "name": "stdout",
     "output_type": "stream",
     "text": [
      "1.0 100.0\n",
      "1.0 1000.0\n"
     ]
    }
   ],
   "source": [
    "\n",
    "#I.C.\n",
    "\n",
    "vs = []  # record final speed and burn rate\n",
    "burnt = []\n",
    "A = []\n",
    "for K in Ks:\n",
    "    \n",
    "    A0x = zeros(Nx)\n",
    "    A0x[xAs > 0.0] = a0\n",
    "    # A0x = a0*ones(Nx) + 0.1*a0*2.0*(0.5-random.random(Nx))\n",
    "\n",
    "    # iterate over params\n",
    "    vtmp = []\n",
    "    btmp = []\n",
    "    Atmp = []\n",
    "    for r in rs:\n",
    "        print(K, r)\n",
    "\n",
    "        x0 = 0.0\n",
    "        Ax = 1.0*A0x\n",
    "        Acx = zeros(Nx)\n",
    "\n",
    "        # initial conditions for all the equations, y0\n",
    "        y0 = array([x0] + list(Acx) + list(Ax))\n",
    "\n",
    "        sol = integrate.solve_ivp(lambda t, y: derivs(t, y, nu, xAs,K,r,a0), (0., tf), y0, method='BDF')\n",
    "\n",
    "        speed = derivs(sol.t[-1], sol.y[:,-1], nu, xAs,K,r,a0)[0]  #dx/dt\n",
    "        vtmp.append(speed)\n",
    "        \n",
    "        Acxf = sol.y[1:1+Nx,-1]  # final amount of complex\n",
    "        btot = integrate.trapz(nu*Acxf, x=xAs)    # total rate of burnt at final time \n",
    "        btmp.append(btot)\n",
    "        Atmp.append(sol.y[1:])\n",
    "        \n",
    "    vs.append(vtmp)\n",
    "    burnt.append(btmp)\n",
    "    A.append(Atmp)\n",
    "vs = array(vs)\n",
    "burnt = array(burnt)"
   ]
  },
  {
   "cell_type": "code",
   "execution_count": null,
   "id": "b991a82b",
   "metadata": {},
   "outputs": [
    {
     "data": {
      "image/png": "[encoded data removed]",
      "text/plain": [
       "<Figure size 432x288 with 1 Axes>"
      ]
     },
     "metadata": {},
     "output_type": "display_data"
    }
   ],
   "source": [
    "from IPython import display\n",
    "for i in range(K_n):\n",
    "    for j in range(r_n):\n",
    "        Atmp = A[i][j]\n",
    "        for t in range(len(Atmp.T)):\n",
    "            Actmp = Atmp[:Nx][:,t]\n",
    "            Astmp = Atmp[Nx:][:,t]\n",
    "            if t % 1 == 0:\n",
    "                display.clear_output(wait=True)\n",
    "                plot(xAs,Astmp)\n",
    "                plot(xAs,Actmp)\n",
    "                ylim(0,100)\n",
    "                text(-10,0,\"K = \" +str(Ks[i])+\"  r' = \"+str(rs[j]))\n",
    "                display.display(gcf())\n",
    "                cla()"
   ]
  },
  {
   "cell_type": "code",
   "execution_count": null,
   "id": "d6b83b51",
   "metadata": {},
   "outputs": [],
   "source": []
  }
 ],
 "metadata": {
  "kernelspec": {
   "display_name": "Python 3",
   "language": "python",
   "name": "python3"
  },
  "language_info": {
   "codemirror_mode": {
    "name": "ipython",
    "version": 3
   },
   "file_extension": ".py",
   "mimetype": "text/x-python",
   "name": "python",
   "nbconvert_exporter": "python",
   "pygments_lexer": "ipython3",
   "version": "3.8.8"
  }
 },
 "nbformat": 4,
 "nbformat_minor": 5
}
